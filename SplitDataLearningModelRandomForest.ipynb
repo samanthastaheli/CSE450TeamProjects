{
  "cells": [
    {
      "cell_type": "markdown",
      "metadata": {
        "colab_type": "text",
        "id": "view-in-github"
      },
      "source": [
        "<a href=\"https://colab.research.google.com/github/samanthastaheli/cse450_module2/blob/main/LearningModelRandomForest.ipynb\" target=\"_parent\"><img src=\"https://colab.research.google.com/assets/colab-badge.svg\" alt=\"Open In Colab\"/></a>"
      ]
    },
    {
      "cell_type": "markdown",
      "metadata": {
        "id": "AGvp6xOASIoe"
      },
      "source": [
        "# Machine Learning Model Document"
      ]
    },
    {
      "cell_type": "markdown",
      "metadata": {
        "id": "7pbeZKN5SMr_"
      },
      "source": [
        "## Import Pandas and the Data Set"
      ]
    },
    {
      "cell_type": "code",
      "execution_count": 1,
      "metadata": {
        "id": "XAfMUVxeSDmI"
      },
      "outputs": [],
      "source": [
        "import pandas as pd\n",
        "\n",
        "campaign = pd.read_csv('https://raw.githubusercontent.com/byui-cse/cse450-course/master/data/bank.csv')"
      ]
    },
    {
      "cell_type": "code",
      "execution_count": 2,
      "metadata": {},
      "outputs": [
        {
          "data": {
            "text/plain": [
              "-36.4    7763\n",
              "-42.7    6685\n",
              "-46.2    5794\n",
              "-36.1    5175\n",
              "-41.8    4374\n",
              "-42.0    3616\n",
              "-47.1    2458\n",
              "-31.4     770\n",
              "-40.8     715\n",
              "-26.9     447\n",
              "-30.1     357\n",
              "-40.3     311\n",
              "-37.5     303\n",
              "-50.0     282\n",
              "-29.8     267\n",
              "-34.8     264\n",
              "-38.3     233\n",
              "-39.8     229\n",
              "-40.0     212\n",
              "-49.5     204\n",
              "-33.6     178\n",
              "-34.6     174\n",
              "-33.0     172\n",
              "-50.8     128\n",
              "-40.4      67\n",
              "-45.9      10\n",
              "Name: cons.conf.idx, dtype: int64"
            ]
          },
          "execution_count": 2,
          "metadata": {},
          "output_type": "execute_result"
        }
      ],
      "source": [
        "# campaign[\"emp.var.rate\"].value_counts() #done\n",
        "# campaign[\"cons.price.idx\"].value_counts() #done\n",
        "campaign[\"cons.conf.idx\"].value_counts() #done\n",
        "# campaign[\"euribor3m\"].value_counts() #done\n",
        "# campaign[\"nr.employed\"].value_counts() #done\n",
        "# avg = campaign[\"nr.employed\"].mean() #done\n",
        "# print(avg)"
      ]
    },
    {
      "cell_type": "code",
      "execution_count": 3,
      "metadata": {},
      "outputs": [
        {
          "name": "stdout",
          "output_type": "stream",
          "text": [
            "<class 'pandas.core.frame.DataFrame'>\n",
            "Int64Index: 41188 entries, 0 to 41187\n",
            "Data columns (total 20 columns):\n",
            " #   Column          Non-Null Count  Dtype  \n",
            "---  ------          --------------  -----  \n",
            " 0   age             41188 non-null  int64  \n",
            " 1   job             41188 non-null  object \n",
            " 2   marital         41188 non-null  object \n",
            " 3   education       41188 non-null  object \n",
            " 4   default         41188 non-null  object \n",
            " 5   housing         41188 non-null  object \n",
            " 6   loan            41188 non-null  object \n",
            " 7   contact         41188 non-null  object \n",
            " 8   month           41188 non-null  object \n",
            " 9   day_of_week     41188 non-null  object \n",
            " 10  campaign        41188 non-null  int64  \n",
            " 11  pdays           41188 non-null  int64  \n",
            " 12  previous        41188 non-null  int64  \n",
            " 13  poutcome        41188 non-null  object \n",
            " 14  emp.var.rate    41188 non-null  float64\n",
            " 15  cons.price.idx  41188 non-null  float64\n",
            " 16  cons.conf.idx   41188 non-null  float64\n",
            " 17  euribor3m       41188 non-null  float64\n",
            " 18  nr.employed     41188 non-null  float64\n",
            " 19  y               41188 non-null  object \n",
            "dtypes: float64(5), int64(4), object(11)\n",
            "memory usage: 4.9+ MB\n"
          ]
        }
      ],
      "source": [
        "split_data = campaign[campaign[\"cons.conf.idx\"] <= 0]\n",
        "split_data.info()"
      ]
    },
    {
      "cell_type": "markdown",
      "metadata": {
        "id": "LgT5rkd9WM9Q"
      },
      "source": [
        "## One Hot Encode"
      ]
    },
    {
      "cell_type": "code",
      "execution_count": 4,
      "metadata": {
        "colab": {
          "base_uri": "https://localhost:8080/"
        },
        "id": "RK1IRhWSWMYR",
        "outputId": "d7f2fcfc-d79d-44ea-d38b-b73d91f088f3"
      },
      "outputs": [
        {
          "name": "stderr",
          "output_type": "stream",
          "text": [
            "C:\\Users\\sstaheli\\AppData\\Local\\Temp\\ipykernel_23468\\1482825590.py:4: FutureWarning: The default value of regex will change from True to False in a future version.\n",
            "  ml_education = split_data.education.str.replace(\"basic.4y\", '4').str.replace('basic.6y', '6').str.replace('basic.9y', '9').str.replace('high.school', '12').str.replace('professional.course', '14').str.replace('illiterate', '2').str.replace('university.degree', '16').str.replace('unknown', '0').astype('float')\n"
          ]
        }
      ],
      "source": [
        "#campaign_unknown = campaign.replace('unknown', np.nan)\n",
        "#campaign_drop_unknown = campaign_drop_unknown.dropna()\n",
        "\n",
        "ml_education = split_data.education.str.replace(\"basic.4y\", '4').str.replace('basic.6y', '6').str.replace('basic.9y', '9').str.replace('high.school', '12').str.replace('professional.course', '14').str.replace('illiterate', '2').str.replace('university.degree', '16').str.replace('unknown', '0').astype('float')\n",
        "\n",
        "age_bins = [15, 25, 35, 45, 55, 65, 100]\n",
        "age_labels = [\"younger\", \"young\", \"middle\", \"middlish\", \"old\", \"older\"]\n",
        "\n",
        "str(age_labels)\n",
        "\n",
        "ml_age = pd.cut(split_data['age'], bins=age_bins, labels=age_labels).astype(str)\n",
        "\n",
        "ml_age = pd.get_dummies(ml_age)\n",
        "\n",
        "ml_answers = split_data.y.str.replace(\"no\", \"0\").str.replace(\"yes\", '1').astype('float')\n",
        "\n",
        "ml_pdays = split_data.pdays.replace(999, -1)\n",
        "\n",
        "ml_onehot = pd.get_dummies(split_data.filter(['job','month','marital', 'default', 'housing', 'loan', 'contact', 'day_of_week', 'poutcome']))"
      ]
    },
    {
      "cell_type": "code",
      "execution_count": 5,
      "metadata": {
        "id": "D5__DVLfWQVL"
      },
      "outputs": [],
      "source": [
        "final_ml = pd.concat([ml_onehot, \n",
        "                         split_data.filter(['campaign', 'previous',\n",
        "       'emp.var.rate', 'cons.price.idx',\n",
        "       'cons.conf.idx', 'euribor3m', 'nr.employed']),\n",
        "                         ml_pdays,\n",
        "                         ml_age,\n",
        "                         ml_education], axis=1)\n",
        "\n",
        "\n",
        "\n",
        "final_ml = final_ml.drop(\"job_student\", axis = 1, inplace = False)"
      ]
    },
    {
      "cell_type": "markdown",
      "metadata": {
        "id": "-5tyguroSW3a"
      },
      "source": [
        "## View Dataframe Info"
      ]
    },
    {
      "cell_type": "code",
      "execution_count": 6,
      "metadata": {
        "colab": {
          "base_uri": "https://localhost:8080/"
        },
        "id": "0v1-NPinSVPM",
        "outputId": "36db9bab-4981-4256-feee-0235820ac2ea"
      },
      "outputs": [
        {
          "name": "stdout",
          "output_type": "stream",
          "text": [
            "<class 'pandas.core.frame.DataFrame'>\n",
            "Int64Index: 41188 entries, 0 to 41187\n",
            "Data columns (total 59 columns):\n",
            " #   Column                Non-Null Count  Dtype  \n",
            "---  ------                --------------  -----  \n",
            " 0   job_admin.            41188 non-null  uint8  \n",
            " 1   job_blue-collar       41188 non-null  uint8  \n",
            " 2   job_entrepreneur      41188 non-null  uint8  \n",
            " 3   job_housemaid         41188 non-null  uint8  \n",
            " 4   job_management        41188 non-null  uint8  \n",
            " 5   job_retired           41188 non-null  uint8  \n",
            " 6   job_self-employed     41188 non-null  uint8  \n",
            " 7   job_services          41188 non-null  uint8  \n",
            " 8   job_technician        41188 non-null  uint8  \n",
            " 9   job_unemployed        41188 non-null  uint8  \n",
            " 10  job_unknown           41188 non-null  uint8  \n",
            " 11  month_apr             41188 non-null  uint8  \n",
            " 12  month_aug             41188 non-null  uint8  \n",
            " 13  month_dec             41188 non-null  uint8  \n",
            " 14  month_jul             41188 non-null  uint8  \n",
            " 15  month_jun             41188 non-null  uint8  \n",
            " 16  month_mar             41188 non-null  uint8  \n",
            " 17  month_may             41188 non-null  uint8  \n",
            " 18  month_nov             41188 non-null  uint8  \n",
            " 19  month_oct             41188 non-null  uint8  \n",
            " 20  month_sep             41188 non-null  uint8  \n",
            " 21  marital_divorced      41188 non-null  uint8  \n",
            " 22  marital_married       41188 non-null  uint8  \n",
            " 23  marital_single        41188 non-null  uint8  \n",
            " 24  marital_unknown       41188 non-null  uint8  \n",
            " 25  default_no            41188 non-null  uint8  \n",
            " 26  default_unknown       41188 non-null  uint8  \n",
            " 27  default_yes           41188 non-null  uint8  \n",
            " 28  housing_no            41188 non-null  uint8  \n",
            " 29  housing_unknown       41188 non-null  uint8  \n",
            " 30  housing_yes           41188 non-null  uint8  \n",
            " 31  loan_no               41188 non-null  uint8  \n",
            " 32  loan_unknown          41188 non-null  uint8  \n",
            " 33  loan_yes              41188 non-null  uint8  \n",
            " 34  contact_cellular      41188 non-null  uint8  \n",
            " 35  contact_telephone     41188 non-null  uint8  \n",
            " 36  day_of_week_fri       41188 non-null  uint8  \n",
            " 37  day_of_week_mon       41188 non-null  uint8  \n",
            " 38  day_of_week_thu       41188 non-null  uint8  \n",
            " 39  day_of_week_tue       41188 non-null  uint8  \n",
            " 40  day_of_week_wed       41188 non-null  uint8  \n",
            " 41  poutcome_failure      41188 non-null  uint8  \n",
            " 42  poutcome_nonexistent  41188 non-null  uint8  \n",
            " 43  poutcome_success      41188 non-null  uint8  \n",
            " 44  campaign              41188 non-null  int64  \n",
            " 45  previous              41188 non-null  int64  \n",
            " 46  emp.var.rate          41188 non-null  float64\n",
            " 47  cons.price.idx        41188 non-null  float64\n",
            " 48  cons.conf.idx         41188 non-null  float64\n",
            " 49  euribor3m             41188 non-null  float64\n",
            " 50  nr.employed           41188 non-null  float64\n",
            " 51  pdays                 41188 non-null  int64  \n",
            " 52  middle                41188 non-null  uint8  \n",
            " 53  middlish              41188 non-null  uint8  \n",
            " 54  old                   41188 non-null  uint8  \n",
            " 55  older                 41188 non-null  uint8  \n",
            " 56  young                 41188 non-null  uint8  \n",
            " 57  younger               41188 non-null  uint8  \n",
            " 58  education             41188 non-null  float64\n",
            "dtypes: float64(6), int64(3), uint8(50)\n",
            "memory usage: 5.1 MB\n"
          ]
        }
      ],
      "source": [
        "final_ml.info()"
      ]
    },
    {
      "cell_type": "markdown",
      "metadata": {
        "id": "Yiw1U0pzS0kJ"
      },
      "source": [
        "## Import Libraries"
      ]
    },
    {
      "cell_type": "code",
      "execution_count": 7,
      "metadata": {
        "id": "l5U7tGqfTAx7"
      },
      "outputs": [],
      "source": [
        "# Model using poutcome, job, and marital\n",
        "from sklearn import tree\n",
        "from sklearn.ensemble import RandomForestClassifier\n",
        "from sklearn.tree import DecisionTreeClassifier\n",
        "from sklearn.preprocessing import OneHotEncoder\n",
        "from sklearn.model_selection import train_test_split\n",
        "from sklearn import metrics"
      ]
    },
    {
      "cell_type": "markdown",
      "metadata": {
        "id": "eQubW2KISiKF"
      },
      "source": [
        "## Select Features for the Training"
      ]
    },
    {
      "cell_type": "code",
      "execution_count": 8,
      "metadata": {
        "id": "Mq_V0wlMShOm"
      },
      "outputs": [],
      "source": [
        "features = ['job_admin.',\n",
        " 'job_blue-collar',\n",
        " 'job_entrepreneur',\n",
        " 'job_housemaid',\n",
        " 'job_management',\n",
        " 'job_retired',\n",
        " 'job_self-employed',\n",
        " 'job_services',\n",
        " 'job_technician',\n",
        " 'job_unemployed',\n",
        " 'job_unknown',\n",
        " 'month_jul',\n",
        " 'month_jun',\n",
        " 'month_may',\n",
        " 'marital_divorced',\n",
        " 'marital_married',\n",
        " 'marital_single',\n",
        " 'marital_unknown',\n",
        " 'default_no',\n",
        " 'default_unknown',\n",
        " 'default_yes',\n",
        " 'housing_no',\n",
        " 'housing_unknown',\n",
        " 'housing_yes',\n",
        " 'loan_no',\n",
        " 'loan_unknown',\n",
        " 'loan_yes',\n",
        " 'contact_cellular',\n",
        " 'contact_telephone',\n",
        " 'day_of_week_fri',\n",
        " 'day_of_week_mon',\n",
        " 'day_of_week_thu',\n",
        " 'day_of_week_tue',\n",
        " 'day_of_week_wed',\n",
        " 'poutcome_nonexistent',\n",
        " 'campaign',\n",
        " 'previous',\n",
        " 'emp.var.rate',\n",
        " 'cons.price.idx',\n",
        " 'cons.conf.idx',\n",
        " 'euribor3m',\n",
        " 'nr.employed',\n",
        " 'pdays',\n",
        " 'middle',\n",
        " 'middlish',\n",
        " 'old',\n",
        " 'young',\n",
        " 'younger',\n",
        " 'education',\n",
        "#  excluded from split data\n",
        " 'month_apr',\n",
        " 'month_mar',\n",
        " 'month_dec',\n",
        " 'month_nov',\n",
        " 'month_oct',\n",
        " 'month_sep',\n",
        " 'month_aug',\n",
        " 'older',\n",
        " 'poutcome_failure',\n",
        " 'poutcome_success'\n",
        " ]"
      ]
    },
    {
      "cell_type": "markdown",
      "metadata": {
        "id": "rYA2bWGISuSm"
      },
      "source": [
        "## Drop NA and Prepare X and y"
      ]
    },
    {
      "cell_type": "code",
      "execution_count": 9,
      "metadata": {
        "id": "9CRFKgoiTTFa"
      },
      "outputs": [],
      "source": [
        "final_ml = final_ml.dropna()\n",
        "X = pd.get_dummies(final_ml[features], drop_first=True)\n",
        "y = ml_answers"
      ]
    },
    {
      "cell_type": "markdown",
      "metadata": {
        "id": "dXFPTKWKTsSn"
      },
      "source": [
        "## Balance the Data Set"
      ]
    },
    {
      "cell_type": "code",
      "execution_count": 10,
      "metadata": {
        "id": "P2yMr3SMT5UW"
      },
      "outputs": [],
      "source": [
        "from imblearn.over_sampling import RandomOverSampler\n",
        "ro = RandomOverSampler()\n",
        "X_new, y_new = ro.fit_resample(X, y)"
      ]
    },
    {
      "cell_type": "markdown",
      "metadata": {
        "id": "6EiFfAo0UPDG"
      },
      "source": [
        "## Split into the Train and Test sets and Build the Tree\n"
      ]
    },
    {
      "cell_type": "code",
      "execution_count": 11,
      "metadata": {
        "id": "Ok0xBaYWUOYU"
      },
      "outputs": [],
      "source": [
        "# Split our data into training and test data, with 30% reserved for testing\n",
        "X_train, X_test, y_train, y_test = train_test_split(X_new, y_new, test_size=0.20)\n",
        "\n",
        "# Build the decision forest\n",
        "clf = RandomForestClassifier(n_estimators = 100)"
      ]
    },
    {
      "cell_type": "markdown",
      "metadata": {
        "id": "jCVWxL7iUbFC"
      },
      "source": [
        "## Train the Model"
      ]
    },
    {
      "cell_type": "code",
      "execution_count": 12,
      "metadata": {
        "colab": {
          "base_uri": "https://localhost:8080/"
        },
        "id": "ts1hPyqjUaVi",
        "outputId": "e8afbf61-589e-4c82-de29-323891ae89e1"
      },
      "outputs": [
        {
          "data": {
            "text/plain": [
              "RandomForestClassifier()"
            ]
          },
          "execution_count": 12,
          "metadata": {},
          "output_type": "execute_result"
        }
      ],
      "source": [
        "# Train it\n",
        "clf.fit(X_train, y_train)"
      ]
    },
    {
      "cell_type": "markdown",
      "metadata": {
        "id": "GSGNRPsLUgQx"
      },
      "source": [
        "## Test the Model"
      ]
    },
    {
      "cell_type": "code",
      "execution_count": 13,
      "metadata": {
        "id": "-9VVaGwUUmTV"
      },
      "outputs": [],
      "source": [
        "# Test it \n",
        "clf.score(X_test, y_test)\n",
        "\n",
        "y_predicted = clf.predict(X_test)"
      ]
    },
    {
      "cell_type": "markdown",
      "metadata": {
        "id": "jfJmsjl-Ur6p"
      },
      "source": [
        "## The Confusion Matrix"
      ]
    },
    {
      "cell_type": "code",
      "execution_count": 14,
      "metadata": {
        "colab": {
          "base_uri": "https://localhost:8080/",
          "height": 351
        },
        "id": "UQGNm3uWUujk",
        "outputId": "9ac5e66c-17b4-499a-f39e-9376eadc9426"
      },
      "outputs": [
        {
          "name": "stderr",
          "output_type": "stream",
          "text": [
            "c:\\Users\\sstaheli\\AppData\\Local\\Programs\\Python\\Python39-32\\lib\\site-packages\\sklearn\\utils\\deprecation.py:87: FutureWarning: Function plot_confusion_matrix is deprecated; Function `plot_confusion_matrix` is deprecated in 1.0 and will be removed in 1.2. Use one of the class methods: ConfusionMatrixDisplay.from_predictions or ConfusionMatrixDisplay.from_estimator.\n",
            "  warnings.warn(msg, category=FutureWarning)\n"
          ]
        },
        {
          "data": {
            "text/plain": [
              "<sklearn.metrics._plot.confusion_matrix.ConfusionMatrixDisplay at 0x198220a0>"
            ]
          },
          "execution_count": 14,
          "metadata": {},
          "output_type": "execute_result"
        },
        {
          "data": {
            "image/png": "[encoded data removed]",
            "text/plain": [
              "<Figure size 432x288 with 2 Axes>"
            ]
          },
          "metadata": {
            "needs_background": "light"
          },
          "output_type": "display_data"
        }
      ],
      "source": [
        "from sklearn import metrics\n",
        "metrics.plot_confusion_matrix(clf, X_test, y_test)"
      ]
    },
    {
      "cell_type": "markdown",
      "metadata": {
        "id": "0PkHo2XRUxcc"
      },
      "source": [
        "## View Stats"
      ]
    },
    {
      "cell_type": "code",
      "execution_count": 17,
      "metadata": {
        "colab": {
          "base_uri": "https://localhost:8080/"
        },
        "id": "zksTvR7FUwgg",
        "outputId": "730f3b26-9503-4e4b-eae9-2527ccf9a96d"
      },
      "outputs": [
        {
          "data": {
            "text/plain": [
              "'|              |   precision |   recall |   f1-score |      support |\\n|:-------------|------------:|---------:|-----------:|-------------:|\\n| 0.0          |    0.997618 | 0.91369  |   0.953811 |  7334        |\\n| 1.0          |    0.919904 | 0.997804 |   0.957272 |  7286        |\\n| accuracy     |    0.955609 | 0.955609 |   0.955609 |     0.955609 |\\n| macro avg    |    0.958761 | 0.955747 |   0.955541 | 14620        |\\n| weighted avg |    0.958888 | 0.955609 |   0.955536 | 14620        |'"
            ]
          },
          "execution_count": 17,
          "metadata": {},
          "output_type": "execute_result"
        }
      ],
      "source": [
        "stats = metrics.classification_report(y_test, y_predicted, output_dict=True) #creates dict\n",
        "\n",
        "stats_data = pd.DataFrame(stats).transpose()\n",
        "stats_data.to_csv('CSV/write_to.csv')\n",
        "stats_data.to_markdown()"
      ]
    },
    {
      "cell_type": "markdown",
      "metadata": {
        "id": "qiU7m1OCU6Mi"
      },
      "source": [
        "## View the Tree(s)"
      ]
    },
    {
      "cell_type": "code",
      "execution_count": 16,
      "metadata": {
        "colab": {
          "base_uri": "https://localhost:8080/"
        },
        "id": "Kj43oYAxU1Nz",
        "outputId": "e8de9463-672c-40b3-e452-54332cf335b6"
      },
      "outputs": [
        {
          "data": {
            "text/plain": [
              "'|    |   euribor3m |   campaign |   education |   nr.employed |   emp.var.rate |   cons.conf.idx |     pdays |   cons.price.idx |   housing_yes |   housing_no |   job_admin. |    middle |   marital_married |     young |   poutcome_success |   job_technician |   job_blue-collar |   marital_single |   day_of_week_mon |   day_of_week_fri |   day_of_week_wed |   middlish |   day_of_week_tue |   loan_no |   day_of_week_thu |   loan_yes |   previous |   contact_telephone |   job_services |   default_no |   default_unknown |   marital_divorced |   job_management |   contact_cellular |        old |   month_may |   job_self-employed |   job_entrepreneur |   poutcome_nonexistent |   job_retired |    younger |   poutcome_failure |   month_oct |   job_housemaid |   job_unemployed |      older |   month_mar |   month_apr |   loan_unknown |   month_jun |   housing_unknown |   month_jul |   month_aug |   job_unknown |   month_sep |   month_nov |   marital_unknown |   month_dec |   default_yes |\\n|---:|------------:|-----------:|------------:|--------------:|---------------:|----------------:|----------:|-----------------:|--------------:|-------------:|-------------:|----------:|------------------:|----------:|-------------------:|-----------------:|------------------:|-----------------:|------------------:|------------------:|------------------:|-----------:|------------------:|----------:|------------------:|-----------:|-----------:|--------------------:|---------------:|-------------:|------------------:|-------------------:|-----------------:|-------------------:|-----------:|------------:|--------------------:|-------------------:|-----------------------:|--------------:|-----------:|-------------------:|------------:|----------------:|-----------------:|-----------:|------------:|------------:|---------------:|------------:|------------------:|------------:|------------:|--------------:|------------:|------------:|------------------:|------------:|--------------:|\\n|  0 |    0.138112 |    0.10105 |   0.0816457 |     0.0603474 |      0.0466968 |       0.0325249 | 0.0222683 |        0.0216086 |     0.0213014 |     0.021178 |    0.0207827 | 0.0191305 |         0.0179029 | 0.0177772 |          0.0170044 |        0.0167813 |          0.016363 |        0.0155391 |         0.0152889 |           0.01455 |         0.0145048 |  0.0144323 |         0.0142284 | 0.0140335 |         0.0140166 |  0.0139656 |   0.012873 |           0.0127511 |      0.0126094 |    0.0121535 |         0.0120839 |          0.0117939 |        0.0107729 |          0.0101186 | 0.00876271 |  0.00864305 |          0.00777756 |         0.00754115 |             0.00752602 |    0.00624638 | 0.00613238 |         0.00545082 |  0.00529512 |      0.00509831 |       0.00490958 | 0.00361988 |   0.0032267 |  0.00259109 |      0.0025348 |  0.00252695 |        0.00235995 |  0.00229364 |  0.00227905 |    0.00197426 |  0.00187213 |  0.00181162 |       0.000880539 | 0.000450889 |   5.27409e-06 |'"
            ]
          },
          "execution_count": 16,
          "metadata": {},
          "output_type": "execute_result"
        }
      ],
      "source": [
        "# Test it \n",
        "feature_imp = pd.Series(clf.feature_importances_,index=X.columns).sort_values(ascending=False)\n",
        "\n",
        "feature_data = pd.DataFrame(feature_imp).transpose()\n",
        "feature_data.to_csv('CSV/write_to.csv')\n",
        "feature_data.to_markdown()"
      ]
    }
  ],
  "metadata": {
    "colab": {
      "authorship_tag": "ABX9TyPYb+aWl3YQZqq/0MySEDr5",
      "collapsed_sections": [],
      "include_colab_link": true,
      "name": "LearningModelRandomForest.ipynb",
      "provenance": []
    },
    "interpreter": {
      "hash": "61a8a38449cd87730cfc569f03425f5307feff6cab1037d5194af39db80abeb1"
    },
    "kernelspec": {
      "display_name": "Python 3.9.8 32-bit",
      "language": "python",
      "name": "python3"
    },
    "language_info": {
      "codemirror_mode": {
        "name": "ipython",
        "version": 3
      },
      "file_extension": ".py",
      "mimetype": "text/x-python",
      "name": "python",
      "nbconvert_exporter": "python",
      "pygments_lexer": "ipython3",
      "version": "3.9.8"
    }
  },
  "nbformat": 4,
  "nbformat_minor": 0
}
