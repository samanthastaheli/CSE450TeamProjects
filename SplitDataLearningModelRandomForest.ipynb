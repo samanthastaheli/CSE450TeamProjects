{
  "cells": [
    {
      "cell_type": "markdown",
      "metadata": {
        "colab_type": "text",
        "id": "view-in-github"
      },
      "source": [
        "<a href=\"https://colab.research.google.com/github/samanthastaheli/cse450_module2/blob/main/LearningModelRandomForest.ipynb\" target=\"_parent\"><img src=\"https://colab.research.google.com/assets/colab-badge.svg\" alt=\"Open In Colab\"/></a>"
      ]
    },
    {
      "cell_type": "markdown",
      "metadata": {
        "id": "AGvp6xOASIoe"
      },
      "source": [
        "# Machine Learning Model Document"
      ]
    },
    {
      "cell_type": "markdown",
      "metadata": {
        "id": "7pbeZKN5SMr_"
      },
      "source": [
        "## Import Pandas and the Data Set"
      ]
    },
    {
      "cell_type": "code",
      "execution_count": 278,
      "metadata": {
        "id": "XAfMUVxeSDmI"
      },
      "outputs": [],
      "source": [
        "import pandas as pd\n",
        "\n",
        "campaign = pd.read_csv('https://raw.githubusercontent.com/byui-cse/cse450-course/master/data/bank.csv')"
      ]
    },
    {
      "cell_type": "code",
      "execution_count": 279,
      "metadata": {},
      "outputs": [
        {
          "data": {
            "text/plain": [
              "-36.4    7763\n",
              "-42.7    6685\n",
              "-46.2    5794\n",
              "-36.1    5175\n",
              "-41.8    4374\n",
              "-42.0    3616\n",
              "-47.1    2458\n",
              "-31.4     770\n",
              "-40.8     715\n",
              "-26.9     447\n",
              "-30.1     357\n",
              "-40.3     311\n",
              "-37.5     303\n",
              "-50.0     282\n",
              "-29.8     267\n",
              "-34.8     264\n",
              "-38.3     233\n",
              "-39.8     229\n",
              "-40.0     212\n",
              "-49.5     204\n",
              "-33.6     178\n",
              "-34.6     174\n",
              "-33.0     172\n",
              "-50.8     128\n",
              "-40.4      67\n",
              "-45.9      10\n",
              "Name: cons.conf.idx, dtype: int64"
            ]
          },
          "execution_count": 279,
          "metadata": {},
          "output_type": "execute_result"
        }
      ],
      "source": [
        "# campaign[\"emp.var.rate\"].value_counts() #done\n",
        "# campaign[\"cons.price.idx\"].value_counts() #done\n",
        "campaign[\"cons.conf.idx\"].value_counts() #done\n",
        "# campaign[\"euribor3m\"].value_counts() #done\n",
        "# campaign[\"nr.employed\"].value_counts() #done\n",
        "# avg = campaign[\"nr.employed\"].mean() #done\n",
        "# print(avg)"
      ]
    },
    {
      "cell_type": "code",
      "execution_count": 280,
      "metadata": {},
      "outputs": [
        {
          "name": "stdout",
          "output_type": "stream",
          "text": [
            "<class 'pandas.core.frame.DataFrame'>\n",
            "Int64Index: 41188 entries, 0 to 41187\n",
            "Data columns (total 20 columns):\n",
            " #   Column          Non-Null Count  Dtype  \n",
            "---  ------          --------------  -----  \n",
            " 0   age             41188 non-null  int64  \n",
            " 1   job             41188 non-null  object \n",
            " 2   marital         41188 non-null  object \n",
            " 3   education       41188 non-null  object \n",
            " 4   default         41188 non-null  object \n",
            " 5   housing         41188 non-null  object \n",
            " 6   loan            41188 non-null  object \n",
            " 7   contact         41188 non-null  object \n",
            " 8   month           41188 non-null  object \n",
            " 9   day_of_week     41188 non-null  object \n",
            " 10  campaign        41188 non-null  int64  \n",
            " 11  pdays           41188 non-null  int64  \n",
            " 12  previous        41188 non-null  int64  \n",
            " 13  poutcome        41188 non-null  object \n",
            " 14  emp.var.rate    41188 non-null  float64\n",
            " 15  cons.price.idx  41188 non-null  float64\n",
            " 16  cons.conf.idx   41188 non-null  float64\n",
            " 17  euribor3m       41188 non-null  float64\n",
            " 18  nr.employed     41188 non-null  float64\n",
            " 19  y               41188 non-null  object \n",
            "dtypes: float64(5), int64(4), object(11)\n",
            "memory usage: 4.9+ MB\n"
          ]
        }
      ],
      "source": [
        "split_data = campaign[campaign[\"cons.conf.idx\"] <= 0]\n",
        "split_data.info()"
      ]
    },
    {
      "cell_type": "markdown",
      "metadata": {
        "id": "LgT5rkd9WM9Q"
      },
      "source": [
        "## One Hot Encode"
      ]
    },
    {
      "cell_type": "code",
      "execution_count": 281,
      "metadata": {
        "colab": {
          "base_uri": "https://localhost:8080/"
        },
        "id": "RK1IRhWSWMYR",
        "outputId": "d7f2fcfc-d79d-44ea-d38b-b73d91f088f3"
      },
      "outputs": [
        {
          "name": "stderr",
          "output_type": "stream",
          "text": [
            "C:\\Users\\sstaheli\\AppData\\Local\\Temp\\ipykernel_980\\1482825590.py:4: FutureWarning: The default value of regex will change from True to False in a future version.\n",
            "  ml_education = split_data.education.str.replace(\"basic.4y\", '4').str.replace('basic.6y', '6').str.replace('basic.9y', '9').str.replace('high.school', '12').str.replace('professional.course', '14').str.replace('illiterate', '2').str.replace('university.degree', '16').str.replace('unknown', '0').astype('float')\n"
          ]
        }
      ],
      "source": [
        "#campaign_unknown = campaign.replace('unknown', np.nan)\n",
        "#campaign_drop_unknown = campaign_drop_unknown.dropna()\n",
        "\n",
        "ml_education = split_data.education.str.replace(\"basic.4y\", '4').str.replace('basic.6y', '6').str.replace('basic.9y', '9').str.replace('high.school', '12').str.replace('professional.course', '14').str.replace('illiterate', '2').str.replace('university.degree', '16').str.replace('unknown', '0').astype('float')\n",
        "\n",
        "age_bins = [15, 25, 35, 45, 55, 65, 100]\n",
        "age_labels = [\"younger\", \"young\", \"middle\", \"middlish\", \"old\", \"older\"]\n",
        "\n",
        "str(age_labels)\n",
        "\n",
        "ml_age = pd.cut(split_data['age'], bins=age_bins, labels=age_labels).astype(str)\n",
        "\n",
        "ml_age = pd.get_dummies(ml_age)\n",
        "\n",
        "ml_answers = split_data.y.str.replace(\"no\", \"0\").str.replace(\"yes\", '1').astype('float')\n",
        "\n",
        "ml_pdays = split_data.pdays.replace(999, -1)\n",
        "\n",
        "ml_onehot = pd.get_dummies(split_data.filter(['job','month','marital', 'default', 'housing', 'loan', 'contact', 'day_of_week', 'poutcome']))"
      ]
    },
    {
      "cell_type": "code",
      "execution_count": 282,
      "metadata": {
        "id": "D5__DVLfWQVL"
      },
      "outputs": [],
      "source": [
        "final_ml = pd.concat([ml_onehot, \n",
        "                         split_data.filter(['campaign', 'previous',\n",
        "       'emp.var.rate', 'cons.price.idx',\n",
        "       'cons.conf.idx', 'euribor3m', 'nr.employed']),\n",
        "                         ml_pdays,\n",
        "                         ml_age,\n",
        "                         ml_education], axis=1)\n",
        "\n",
        "\n",
        "\n",
        "final_ml = final_ml.drop(\"job_student\", axis = 1, inplace = False)"
      ]
    },
    {
      "cell_type": "markdown",
      "metadata": {
        "id": "-5tyguroSW3a"
      },
      "source": [
        "## View Dataframe Info"
      ]
    },
    {
      "cell_type": "code",
      "execution_count": 283,
      "metadata": {
        "colab": {
          "base_uri": "https://localhost:8080/"
        },
        "id": "0v1-NPinSVPM",
        "outputId": "36db9bab-4981-4256-feee-0235820ac2ea"
      },
      "outputs": [
        {
          "name": "stdout",
          "output_type": "stream",
          "text": [
            "<class 'pandas.core.frame.DataFrame'>\n",
            "Int64Index: 41188 entries, 0 to 41187\n",
            "Data columns (total 59 columns):\n",
            " #   Column                Non-Null Count  Dtype  \n",
            "---  ------                --------------  -----  \n",
            " 0   job_admin.            41188 non-null  uint8  \n",
            " 1   job_blue-collar       41188 non-null  uint8  \n",
            " 2   job_entrepreneur      41188 non-null  uint8  \n",
            " 3   job_housemaid         41188 non-null  uint8  \n",
            " 4   job_management        41188 non-null  uint8  \n",
            " 5   job_retired           41188 non-null  uint8  \n",
            " 6   job_self-employed     41188 non-null  uint8  \n",
            " 7   job_services          41188 non-null  uint8  \n",
            " 8   job_technician        41188 non-null  uint8  \n",
            " 9   job_unemployed        41188 non-null  uint8  \n",
            " 10  job_unknown           41188 non-null  uint8  \n",
            " 11  month_apr             41188 non-null  uint8  \n",
            " 12  month_aug             41188 non-null  uint8  \n",
            " 13  month_dec             41188 non-null  uint8  \n",
            " 14  month_jul             41188 non-null  uint8  \n",
            " 15  month_jun             41188 non-null  uint8  \n",
            " 16  month_mar             41188 non-null  uint8  \n",
            " 17  month_may             41188 non-null  uint8  \n",
            " 18  month_nov             41188 non-null  uint8  \n",
            " 19  month_oct             41188 non-null  uint8  \n",
            " 20  month_sep             41188 non-null  uint8  \n",
            " 21  marital_divorced      41188 non-null  uint8  \n",
            " 22  marital_married       41188 non-null  uint8  \n",
            " 23  marital_single        41188 non-null  uint8  \n",
            " 24  marital_unknown       41188 non-null  uint8  \n",
            " 25  default_no            41188 non-null  uint8  \n",
            " 26  default_unknown       41188 non-null  uint8  \n",
            " 27  default_yes           41188 non-null  uint8  \n",
            " 28  housing_no            41188 non-null  uint8  \n",
            " 29  housing_unknown       41188 non-null  uint8  \n",
            " 30  housing_yes           41188 non-null  uint8  \n",
            " 31  loan_no               41188 non-null  uint8  \n",
            " 32  loan_unknown          41188 non-null  uint8  \n",
            " 33  loan_yes              41188 non-null  uint8  \n",
            " 34  contact_cellular      41188 non-null  uint8  \n",
            " 35  contact_telephone     41188 non-null  uint8  \n",
            " 36  day_of_week_fri       41188 non-null  uint8  \n",
            " 37  day_of_week_mon       41188 non-null  uint8  \n",
            " 38  day_of_week_thu       41188 non-null  uint8  \n",
            " 39  day_of_week_tue       41188 non-null  uint8  \n",
            " 40  day_of_week_wed       41188 non-null  uint8  \n",
            " 41  poutcome_failure      41188 non-null  uint8  \n",
            " 42  poutcome_nonexistent  41188 non-null  uint8  \n",
            " 43  poutcome_success      41188 non-null  uint8  \n",
            " 44  campaign              41188 non-null  int64  \n",
            " 45  previous              41188 non-null  int64  \n",
            " 46  emp.var.rate          41188 non-null  float64\n",
            " 47  cons.price.idx        41188 non-null  float64\n",
            " 48  cons.conf.idx         41188 non-null  float64\n",
            " 49  euribor3m             41188 non-null  float64\n",
            " 50  nr.employed           41188 non-null  float64\n",
            " 51  pdays                 41188 non-null  int64  \n",
            " 52  middle                41188 non-null  uint8  \n",
            " 53  middlish              41188 non-null  uint8  \n",
            " 54  old                   41188 non-null  uint8  \n",
            " 55  older                 41188 non-null  uint8  \n",
            " 56  young                 41188 non-null  uint8  \n",
            " 57  younger               41188 non-null  uint8  \n",
            " 58  education             41188 non-null  float64\n",
            "dtypes: float64(6), int64(3), uint8(50)\n",
            "memory usage: 5.1 MB\n"
          ]
        }
      ],
      "source": [
        "final_ml.info()"
      ]
    },
    {
      "cell_type": "markdown",
      "metadata": {
        "id": "Yiw1U0pzS0kJ"
      },
      "source": [
        "## Import Libraries"
      ]
    },
    {
      "cell_type": "code",
      "execution_count": 284,
      "metadata": {
        "id": "l5U7tGqfTAx7"
      },
      "outputs": [],
      "source": [
        "# Model using poutcome, job, and marital\n",
        "from sklearn import tree\n",
        "from sklearn.ensemble import RandomForestClassifier\n",
        "from sklearn.tree import DecisionTreeClassifier\n",
        "from sklearn.preprocessing import OneHotEncoder\n",
        "from sklearn.model_selection import train_test_split\n",
        "from sklearn import metrics"
      ]
    },
    {
      "cell_type": "markdown",
      "metadata": {
        "id": "eQubW2KISiKF"
      },
      "source": [
        "## Select Features for the Training"
      ]
    },
    {
      "cell_type": "code",
      "execution_count": 285,
      "metadata": {
        "id": "Mq_V0wlMShOm"
      },
      "outputs": [],
      "source": [
        "features = ['job_admin.',\n",
        " 'job_blue-collar',\n",
        " 'job_entrepreneur',\n",
        " 'job_housemaid',\n",
        " 'job_management',\n",
        " 'job_retired',\n",
        " 'job_self-employed',\n",
        " 'job_services',\n",
        " 'job_technician',\n",
        " 'job_unemployed',\n",
        " 'job_unknown',\n",
        " 'month_jul',\n",
        " 'month_jun',\n",
        " 'month_may',\n",
        " 'marital_divorced',\n",
        " 'marital_married',\n",
        " 'marital_single',\n",
        " 'marital_unknown',\n",
        " 'default_no',\n",
        " 'default_unknown',\n",
        " 'default_yes',\n",
        " 'housing_no',\n",
        " 'housing_unknown',\n",
        " 'housing_yes',\n",
        " 'loan_no',\n",
        " 'loan_unknown',\n",
        " 'loan_yes',\n",
        " 'contact_cellular',\n",
        " 'contact_telephone',\n",
        " 'day_of_week_fri',\n",
        " 'day_of_week_mon',\n",
        " 'day_of_week_thu',\n",
        " 'day_of_week_tue',\n",
        " 'day_of_week_wed',\n",
        " 'poutcome_nonexistent',\n",
        " 'campaign',\n",
        " 'previous',\n",
        " 'emp.var.rate',\n",
        " 'cons.price.idx',\n",
        " 'cons.conf.idx',\n",
        " 'euribor3m',\n",
        " 'nr.employed',\n",
        " 'pdays',\n",
        " 'middle',\n",
        " 'middlish',\n",
        " 'old',\n",
        " 'young',\n",
        " 'younger',\n",
        " 'education',\n",
        "#  excluded from split data\n",
        " 'month_apr',\n",
        " 'month_mar',\n",
        " 'month_dec',\n",
        " 'month_nov',\n",
        " 'month_oct',\n",
        " 'month_sep',\n",
        " 'month_aug',\n",
        " 'older',\n",
        " 'poutcome_failure',\n",
        " 'poutcome_success'\n",
        " ]"
      ]
    },
    {
      "cell_type": "markdown",
      "metadata": {
        "id": "rYA2bWGISuSm"
      },
      "source": [
        "## Drop NA and Prepare X and y"
      ]
    },
    {
      "cell_type": "code",
      "execution_count": 286,
      "metadata": {
        "id": "9CRFKgoiTTFa"
      },
      "outputs": [],
      "source": [
        "final_ml = final_ml.dropna()\n",
        "X = pd.get_dummies(final_ml[features], drop_first=True)\n",
        "y = ml_answers"
      ]
    },
    {
      "cell_type": "markdown",
      "metadata": {
        "id": "dXFPTKWKTsSn"
      },
      "source": [
        "## Balance the Data Set"
      ]
    },
    {
      "cell_type": "code",
      "execution_count": 287,
      "metadata": {
        "id": "P2yMr3SMT5UW"
      },
      "outputs": [],
      "source": [
        "from imblearn.over_sampling import RandomOverSampler\n",
        "ro = RandomOverSampler()\n",
        "X_new, y_new = ro.fit_resample(X, y)"
      ]
    },
    {
      "cell_type": "markdown",
      "metadata": {
        "id": "6EiFfAo0UPDG"
      },
      "source": [
        "## Split into the Train and Test sets and Build the Tree\n"
      ]
    },
    {
      "cell_type": "code",
      "execution_count": 288,
      "metadata": {
        "id": "Ok0xBaYWUOYU"
      },
      "outputs": [],
      "source": [
        "# Split our data into training and test data, with 30% reserved for testing\n",
        "X_train, X_test, y_train, y_test = train_test_split(X_new, y_new, test_size=0.20)\n",
        "\n",
        "# Build the decision forest\n",
        "clf = RandomForestClassifier(n_estimators = 100)"
      ]
    },
    {
      "cell_type": "markdown",
      "metadata": {
        "id": "jCVWxL7iUbFC"
      },
      "source": [
        "## Train the Model"
      ]
    },
    {
      "cell_type": "code",
      "execution_count": 290,
      "metadata": {
        "colab": {
          "base_uri": "https://localhost:8080/"
        },
        "id": "ts1hPyqjUaVi",
        "outputId": "e8afbf61-589e-4c82-de29-323891ae89e1"
      },
      "outputs": [
        {
          "ename": "MemoryError",
          "evalue": "Unable to allocate 26.3 MiB for an array with shape (59, 58476) and data type float64",
          "output_type": "error",
          "traceback": [
            "\u001b[1;31m---------------------------------------------------------------------------\u001b[0m",
            "\u001b[1;31mMemoryError\u001b[0m                               Traceback (most recent call last)",
            "\u001b[1;32mc:\\Users\\sstaheli\\OneDrive\\Documents\\repos\\cse450_module2\\SplitDataLearningModelRandomForest.ipynb Cell 23'\u001b[0m in \u001b[0;36m<cell line: 2>\u001b[1;34m()\u001b[0m\n\u001b[0;32m      <a href='vscode-notebook-cell:/c%3A/Users/sstaheli/OneDrive/Documents/repos/cse450_module2/SplitDataLearningModelRandomForest.ipynb#ch0000022?line=0'>1</a>\u001b[0m \u001b[39m# Train it\u001b[39;00m\n\u001b[1;32m----> <a href='vscode-notebook-cell:/c%3A/Users/sstaheli/OneDrive/Documents/repos/cse450_module2/SplitDataLearningModelRandomForest.ipynb#ch0000022?line=1'>2</a>\u001b[0m clf\u001b[39m.\u001b[39;49mfit(X_train, y_train)\n",
            "File \u001b[1;32mc:\\Users\\sstaheli\\AppData\\Local\\Programs\\Python\\Python39-32\\lib\\site-packages\\sklearn\\ensemble\\_forest.py:327\u001b[0m, in \u001b[0;36mBaseForest.fit\u001b[1;34m(self, X, y, sample_weight)\u001b[0m\n\u001b[0;32m    <a href='file:///c%3A/Users/sstaheli/AppData/Local/Programs/Python/Python39-32/lib/site-packages/sklearn/ensemble/_forest.py?line=324'>325</a>\u001b[0m \u001b[39mif\u001b[39;00m issparse(y):\n\u001b[0;32m    <a href='file:///c%3A/Users/sstaheli/AppData/Local/Programs/Python/Python39-32/lib/site-packages/sklearn/ensemble/_forest.py?line=325'>326</a>\u001b[0m     \u001b[39mraise\u001b[39;00m \u001b[39mValueError\u001b[39;00m(\u001b[39m\"\u001b[39m\u001b[39msparse multilabel-indicator for y is not supported.\u001b[39m\u001b[39m\"\u001b[39m)\n\u001b[1;32m--> <a href='file:///c%3A/Users/sstaheli/AppData/Local/Programs/Python/Python39-32/lib/site-packages/sklearn/ensemble/_forest.py?line=326'>327</a>\u001b[0m X, y \u001b[39m=\u001b[39m \u001b[39mself\u001b[39;49m\u001b[39m.\u001b[39;49m_validate_data(\n\u001b[0;32m    <a href='file:///c%3A/Users/sstaheli/AppData/Local/Programs/Python/Python39-32/lib/site-packages/sklearn/ensemble/_forest.py?line=327'>328</a>\u001b[0m     X, y, multi_output\u001b[39m=\u001b[39;49m\u001b[39mTrue\u001b[39;49;00m, accept_sparse\u001b[39m=\u001b[39;49m\u001b[39m\"\u001b[39;49m\u001b[39mcsc\u001b[39;49m\u001b[39m\"\u001b[39;49m, dtype\u001b[39m=\u001b[39;49mDTYPE\n\u001b[0;32m    <a href='file:///c%3A/Users/sstaheli/AppData/Local/Programs/Python/Python39-32/lib/site-packages/sklearn/ensemble/_forest.py?line=328'>329</a>\u001b[0m )\n\u001b[0;32m    <a href='file:///c%3A/Users/sstaheli/AppData/Local/Programs/Python/Python39-32/lib/site-packages/sklearn/ensemble/_forest.py?line=329'>330</a>\u001b[0m \u001b[39mif\u001b[39;00m sample_weight \u001b[39mis\u001b[39;00m \u001b[39mnot\u001b[39;00m \u001b[39mNone\u001b[39;00m:\n\u001b[0;32m    <a href='file:///c%3A/Users/sstaheli/AppData/Local/Programs/Python/Python39-32/lib/site-packages/sklearn/ensemble/_forest.py?line=330'>331</a>\u001b[0m     sample_weight \u001b[39m=\u001b[39m _check_sample_weight(sample_weight, X)\n",
            "File \u001b[1;32mc:\\Users\\sstaheli\\AppData\\Local\\Programs\\Python\\Python39-32\\lib\\site-packages\\sklearn\\base.py:581\u001b[0m, in \u001b[0;36mBaseEstimator._validate_data\u001b[1;34m(self, X, y, reset, validate_separately, **check_params)\u001b[0m\n\u001b[0;32m    <a href='file:///c%3A/Users/sstaheli/AppData/Local/Programs/Python/Python39-32/lib/site-packages/sklearn/base.py?line=578'>579</a>\u001b[0m         y \u001b[39m=\u001b[39m check_array(y, \u001b[39m*\u001b[39m\u001b[39m*\u001b[39mcheck_y_params)\n\u001b[0;32m    <a href='file:///c%3A/Users/sstaheli/AppData/Local/Programs/Python/Python39-32/lib/site-packages/sklearn/base.py?line=579'>580</a>\u001b[0m     \u001b[39melse\u001b[39;00m:\n\u001b[1;32m--> <a href='file:///c%3A/Users/sstaheli/AppData/Local/Programs/Python/Python39-32/lib/site-packages/sklearn/base.py?line=580'>581</a>\u001b[0m         X, y \u001b[39m=\u001b[39m check_X_y(X, y, \u001b[39m*\u001b[39m\u001b[39m*\u001b[39mcheck_params)\n\u001b[0;32m    <a href='file:///c%3A/Users/sstaheli/AppData/Local/Programs/Python/Python39-32/lib/site-packages/sklearn/base.py?line=581'>582</a>\u001b[0m     out \u001b[39m=\u001b[39m X, y\n\u001b[0;32m    <a href='file:///c%3A/Users/sstaheli/AppData/Local/Programs/Python/Python39-32/lib/site-packages/sklearn/base.py?line=583'>584</a>\u001b[0m \u001b[39mif\u001b[39;00m \u001b[39mnot\u001b[39;00m no_val_X \u001b[39mand\u001b[39;00m check_params\u001b[39m.\u001b[39mget(\u001b[39m\"\u001b[39m\u001b[39mensure_2d\u001b[39m\u001b[39m\"\u001b[39m, \u001b[39mTrue\u001b[39;00m):\n",
            "File \u001b[1;32mc:\\Users\\sstaheli\\AppData\\Local\\Programs\\Python\\Python39-32\\lib\\site-packages\\sklearn\\utils\\validation.py:964\u001b[0m, in \u001b[0;36mcheck_X_y\u001b[1;34m(X, y, accept_sparse, accept_large_sparse, dtype, order, copy, force_all_finite, ensure_2d, allow_nd, multi_output, ensure_min_samples, ensure_min_features, y_numeric, estimator)\u001b[0m\n\u001b[0;32m    <a href='file:///c%3A/Users/sstaheli/AppData/Local/Programs/Python/Python39-32/lib/site-packages/sklearn/utils/validation.py?line=960'>961</a>\u001b[0m \u001b[39mif\u001b[39;00m y \u001b[39mis\u001b[39;00m \u001b[39mNone\u001b[39;00m:\n\u001b[0;32m    <a href='file:///c%3A/Users/sstaheli/AppData/Local/Programs/Python/Python39-32/lib/site-packages/sklearn/utils/validation.py?line=961'>962</a>\u001b[0m     \u001b[39mraise\u001b[39;00m \u001b[39mValueError\u001b[39;00m(\u001b[39m\"\u001b[39m\u001b[39my cannot be None\u001b[39m\u001b[39m\"\u001b[39m)\n\u001b[1;32m--> <a href='file:///c%3A/Users/sstaheli/AppData/Local/Programs/Python/Python39-32/lib/site-packages/sklearn/utils/validation.py?line=963'>964</a>\u001b[0m X \u001b[39m=\u001b[39m check_array(\n\u001b[0;32m    <a href='file:///c%3A/Users/sstaheli/AppData/Local/Programs/Python/Python39-32/lib/site-packages/sklearn/utils/validation.py?line=964'>965</a>\u001b[0m     X,\n\u001b[0;32m    <a href='file:///c%3A/Users/sstaheli/AppData/Local/Programs/Python/Python39-32/lib/site-packages/sklearn/utils/validation.py?line=965'>966</a>\u001b[0m     accept_sparse\u001b[39m=\u001b[39;49maccept_sparse,\n\u001b[0;32m    <a href='file:///c%3A/Users/sstaheli/AppData/Local/Programs/Python/Python39-32/lib/site-packages/sklearn/utils/validation.py?line=966'>967</a>\u001b[0m     accept_large_sparse\u001b[39m=\u001b[39;49maccept_large_sparse,\n\u001b[0;32m    <a href='file:///c%3A/Users/sstaheli/AppData/Local/Programs/Python/Python39-32/lib/site-packages/sklearn/utils/validation.py?line=967'>968</a>\u001b[0m     dtype\u001b[39m=\u001b[39;49mdtype,\n\u001b[0;32m    <a href='file:///c%3A/Users/sstaheli/AppData/Local/Programs/Python/Python39-32/lib/site-packages/sklearn/utils/validation.py?line=968'>969</a>\u001b[0m     order\u001b[39m=\u001b[39;49morder,\n\u001b[0;32m    <a href='file:///c%3A/Users/sstaheli/AppData/Local/Programs/Python/Python39-32/lib/site-packages/sklearn/utils/validation.py?line=969'>970</a>\u001b[0m     copy\u001b[39m=\u001b[39;49mcopy,\n\u001b[0;32m    <a href='file:///c%3A/Users/sstaheli/AppData/Local/Programs/Python/Python39-32/lib/site-packages/sklearn/utils/validation.py?line=970'>971</a>\u001b[0m     force_all_finite\u001b[39m=\u001b[39;49mforce_all_finite,\n\u001b[0;32m    <a href='file:///c%3A/Users/sstaheli/AppData/Local/Programs/Python/Python39-32/lib/site-packages/sklearn/utils/validation.py?line=971'>972</a>\u001b[0m     ensure_2d\u001b[39m=\u001b[39;49mensure_2d,\n\u001b[0;32m    <a href='file:///c%3A/Users/sstaheli/AppData/Local/Programs/Python/Python39-32/lib/site-packages/sklearn/utils/validation.py?line=972'>973</a>\u001b[0m     allow_nd\u001b[39m=\u001b[39;49mallow_nd,\n\u001b[0;32m    <a href='file:///c%3A/Users/sstaheli/AppData/Local/Programs/Python/Python39-32/lib/site-packages/sklearn/utils/validation.py?line=973'>974</a>\u001b[0m     ensure_min_samples\u001b[39m=\u001b[39;49mensure_min_samples,\n\u001b[0;32m    <a href='file:///c%3A/Users/sstaheli/AppData/Local/Programs/Python/Python39-32/lib/site-packages/sklearn/utils/validation.py?line=974'>975</a>\u001b[0m     ensure_min_features\u001b[39m=\u001b[39;49mensure_min_features,\n\u001b[0;32m    <a href='file:///c%3A/Users/sstaheli/AppData/Local/Programs/Python/Python39-32/lib/site-packages/sklearn/utils/validation.py?line=975'>976</a>\u001b[0m     estimator\u001b[39m=\u001b[39;49mestimator,\n\u001b[0;32m    <a href='file:///c%3A/Users/sstaheli/AppData/Local/Programs/Python/Python39-32/lib/site-packages/sklearn/utils/validation.py?line=976'>977</a>\u001b[0m )\n\u001b[0;32m    <a href='file:///c%3A/Users/sstaheli/AppData/Local/Programs/Python/Python39-32/lib/site-packages/sklearn/utils/validation.py?line=978'>979</a>\u001b[0m y \u001b[39m=\u001b[39m _check_y(y, multi_output\u001b[39m=\u001b[39mmulti_output, y_numeric\u001b[39m=\u001b[39my_numeric)\n\u001b[0;32m    <a href='file:///c%3A/Users/sstaheli/AppData/Local/Programs/Python/Python39-32/lib/site-packages/sklearn/utils/validation.py?line=980'>981</a>\u001b[0m check_consistent_length(X, y)\n",
            "File \u001b[1;32mc:\\Users\\sstaheli\\AppData\\Local\\Programs\\Python\\Python39-32\\lib\\site-packages\\sklearn\\utils\\validation.py:746\u001b[0m, in \u001b[0;36mcheck_array\u001b[1;34m(array, accept_sparse, accept_large_sparse, dtype, order, copy, force_all_finite, ensure_2d, allow_nd, ensure_min_samples, ensure_min_features, estimator)\u001b[0m\n\u001b[0;32m    <a href='file:///c%3A/Users/sstaheli/AppData/Local/Programs/Python/Python39-32/lib/site-packages/sklearn/utils/validation.py?line=743'>744</a>\u001b[0m         array \u001b[39m=\u001b[39m array\u001b[39m.\u001b[39mastype(dtype, casting\u001b[39m=\u001b[39m\u001b[39m\"\u001b[39m\u001b[39munsafe\u001b[39m\u001b[39m\"\u001b[39m, copy\u001b[39m=\u001b[39m\u001b[39mFalse\u001b[39;00m)\n\u001b[0;32m    <a href='file:///c%3A/Users/sstaheli/AppData/Local/Programs/Python/Python39-32/lib/site-packages/sklearn/utils/validation.py?line=744'>745</a>\u001b[0m     \u001b[39melse\u001b[39;00m:\n\u001b[1;32m--> <a href='file:///c%3A/Users/sstaheli/AppData/Local/Programs/Python/Python39-32/lib/site-packages/sklearn/utils/validation.py?line=745'>746</a>\u001b[0m         array \u001b[39m=\u001b[39m np\u001b[39m.\u001b[39;49masarray(array, order\u001b[39m=\u001b[39;49morder, dtype\u001b[39m=\u001b[39;49mdtype)\n\u001b[0;32m    <a href='file:///c%3A/Users/sstaheli/AppData/Local/Programs/Python/Python39-32/lib/site-packages/sklearn/utils/validation.py?line=746'>747</a>\u001b[0m \u001b[39mexcept\u001b[39;00m ComplexWarning \u001b[39mas\u001b[39;00m complex_warning:\n\u001b[0;32m    <a href='file:///c%3A/Users/sstaheli/AppData/Local/Programs/Python/Python39-32/lib/site-packages/sklearn/utils/validation.py?line=747'>748</a>\u001b[0m     \u001b[39mraise\u001b[39;00m \u001b[39mValueError\u001b[39;00m(\n\u001b[0;32m    <a href='file:///c%3A/Users/sstaheli/AppData/Local/Programs/Python/Python39-32/lib/site-packages/sklearn/utils/validation.py?line=748'>749</a>\u001b[0m         \u001b[39m\"\u001b[39m\u001b[39mComplex data not supported\u001b[39m\u001b[39m\\n\u001b[39;00m\u001b[39m{}\u001b[39;00m\u001b[39m\\n\u001b[39;00m\u001b[39m\"\u001b[39m\u001b[39m.\u001b[39mformat(array)\n\u001b[0;32m    <a href='file:///c%3A/Users/sstaheli/AppData/Local/Programs/Python/Python39-32/lib/site-packages/sklearn/utils/validation.py?line=749'>750</a>\u001b[0m     ) \u001b[39mfrom\u001b[39;00m \u001b[39mcomplex_warning\u001b[39;00m\n",
            "File \u001b[1;32mc:\\Users\\sstaheli\\AppData\\Local\\Programs\\Python\\Python39-32\\lib\\site-packages\\pandas\\core\\generic.py:2064\u001b[0m, in \u001b[0;36mNDFrame.__array__\u001b[1;34m(self, dtype)\u001b[0m\n\u001b[0;32m   <a href='file:///c%3A/Users/sstaheli/AppData/Local/Programs/Python/Python39-32/lib/site-packages/pandas/core/generic.py?line=2062'>2063</a>\u001b[0m \u001b[39mdef\u001b[39;00m \u001b[39m__array__\u001b[39m(\u001b[39mself\u001b[39m, dtype: npt\u001b[39m.\u001b[39mDTypeLike \u001b[39m|\u001b[39m \u001b[39mNone\u001b[39;00m \u001b[39m=\u001b[39m \u001b[39mNone\u001b[39;00m) \u001b[39m-\u001b[39m\u001b[39m>\u001b[39m np\u001b[39m.\u001b[39mndarray:\n\u001b[1;32m-> <a href='file:///c%3A/Users/sstaheli/AppData/Local/Programs/Python/Python39-32/lib/site-packages/pandas/core/generic.py?line=2063'>2064</a>\u001b[0m     \u001b[39mreturn\u001b[39;00m np\u001b[39m.\u001b[39masarray(\u001b[39mself\u001b[39;49m\u001b[39m.\u001b[39;49m_values, dtype\u001b[39m=\u001b[39mdtype)\n",
            "File \u001b[1;32mc:\\Users\\sstaheli\\AppData\\Local\\Programs\\Python\\Python39-32\\lib\\site-packages\\pandas\\core\\frame.py:918\u001b[0m, in \u001b[0;36mDataFrame._values\u001b[1;34m(self)\u001b[0m\n\u001b[0;32m    <a href='file:///c%3A/Users/sstaheli/AppData/Local/Programs/Python/Python39-32/lib/site-packages/pandas/core/frame.py?line=915'>916</a>\u001b[0m blocks \u001b[39m=\u001b[39m mgr\u001b[39m.\u001b[39mblocks\n\u001b[0;32m    <a href='file:///c%3A/Users/sstaheli/AppData/Local/Programs/Python/Python39-32/lib/site-packages/pandas/core/frame.py?line=916'>917</a>\u001b[0m \u001b[39mif\u001b[39;00m \u001b[39mlen\u001b[39m(blocks) \u001b[39m!=\u001b[39m \u001b[39m1\u001b[39m:\n\u001b[1;32m--> <a href='file:///c%3A/Users/sstaheli/AppData/Local/Programs/Python/Python39-32/lib/site-packages/pandas/core/frame.py?line=917'>918</a>\u001b[0m     \u001b[39mreturn\u001b[39;00m \u001b[39mself\u001b[39;49m\u001b[39m.\u001b[39;49mvalues\n\u001b[0;32m    <a href='file:///c%3A/Users/sstaheli/AppData/Local/Programs/Python/Python39-32/lib/site-packages/pandas/core/frame.py?line=919'>920</a>\u001b[0m arr \u001b[39m=\u001b[39m blocks[\u001b[39m0\u001b[39m]\u001b[39m.\u001b[39mvalues\n\u001b[0;32m    <a href='file:///c%3A/Users/sstaheli/AppData/Local/Programs/Python/Python39-32/lib/site-packages/pandas/core/frame.py?line=920'>921</a>\u001b[0m \u001b[39mif\u001b[39;00m arr\u001b[39m.\u001b[39mndim \u001b[39m==\u001b[39m \u001b[39m1\u001b[39m:\n\u001b[0;32m    <a href='file:///c%3A/Users/sstaheli/AppData/Local/Programs/Python/Python39-32/lib/site-packages/pandas/core/frame.py?line=921'>922</a>\u001b[0m     \u001b[39m# non-2D ExtensionArray\u001b[39;00m\n",
            "File \u001b[1;32mc:\\Users\\sstaheli\\AppData\\Local\\Programs\\Python\\Python39-32\\lib\\site-packages\\pandas\\core\\frame.py:10883\u001b[0m, in \u001b[0;36mDataFrame.values\u001b[1;34m(self)\u001b[0m\n\u001b[0;32m  <a href='file:///c%3A/Users/sstaheli/AppData/Local/Programs/Python/Python39-32/lib/site-packages/pandas/core/frame.py?line=10809'>10810</a>\u001b[0m \u001b[39m\"\"\"\u001b[39;00m\n\u001b[0;32m  <a href='file:///c%3A/Users/sstaheli/AppData/Local/Programs/Python/Python39-32/lib/site-packages/pandas/core/frame.py?line=10810'>10811</a>\u001b[0m \u001b[39mReturn a Numpy representation of the DataFrame.\u001b[39;00m\n\u001b[0;32m  <a href='file:///c%3A/Users/sstaheli/AppData/Local/Programs/Python/Python39-32/lib/site-packages/pandas/core/frame.py?line=10811'>10812</a>\u001b[0m \n\u001b[1;32m   (...)\u001b[0m\n\u001b[0;32m  <a href='file:///c%3A/Users/sstaheli/AppData/Local/Programs/Python/Python39-32/lib/site-packages/pandas/core/frame.py?line=10879'>10880</a>\u001b[0m \u001b[39m       ['monkey', nan, None]], dtype=object)\u001b[39;00m\n\u001b[0;32m  <a href='file:///c%3A/Users/sstaheli/AppData/Local/Programs/Python/Python39-32/lib/site-packages/pandas/core/frame.py?line=10880'>10881</a>\u001b[0m \u001b[39m\"\"\"\u001b[39;00m\n\u001b[0;32m  <a href='file:///c%3A/Users/sstaheli/AppData/Local/Programs/Python/Python39-32/lib/site-packages/pandas/core/frame.py?line=10881'>10882</a>\u001b[0m \u001b[39mself\u001b[39m\u001b[39m.\u001b[39m_consolidate_inplace()\n\u001b[1;32m> <a href='file:///c%3A/Users/sstaheli/AppData/Local/Programs/Python/Python39-32/lib/site-packages/pandas/core/frame.py?line=10882'>10883</a>\u001b[0m \u001b[39mreturn\u001b[39;00m \u001b[39mself\u001b[39;49m\u001b[39m.\u001b[39;49m_mgr\u001b[39m.\u001b[39;49mas_array()\n",
            "File \u001b[1;32mc:\\Users\\sstaheli\\AppData\\Local\\Programs\\Python\\Python39-32\\lib\\site-packages\\pandas\\core\\internals\\managers.py:1589\u001b[0m, in \u001b[0;36mBlockManager.as_array\u001b[1;34m(self, dtype, copy, na_value)\u001b[0m\n\u001b[0;32m   <a href='file:///c%3A/Users/sstaheli/AppData/Local/Programs/Python/Python39-32/lib/site-packages/pandas/core/internals/managers.py?line=1586'>1587</a>\u001b[0m             arr \u001b[39m=\u001b[39m arr\u001b[39m.\u001b[39mastype(dtype, copy\u001b[39m=\u001b[39m\u001b[39mFalse\u001b[39;00m)\n\u001b[0;32m   <a href='file:///c%3A/Users/sstaheli/AppData/Local/Programs/Python/Python39-32/lib/site-packages/pandas/core/internals/managers.py?line=1587'>1588</a>\u001b[0m \u001b[39melse\u001b[39;00m:\n\u001b[1;32m-> <a href='file:///c%3A/Users/sstaheli/AppData/Local/Programs/Python/Python39-32/lib/site-packages/pandas/core/internals/managers.py?line=1588'>1589</a>\u001b[0m     arr \u001b[39m=\u001b[39m \u001b[39mself\u001b[39;49m\u001b[39m.\u001b[39;49m_interleave(dtype\u001b[39m=\u001b[39;49mdtype, na_value\u001b[39m=\u001b[39;49mna_value)\n\u001b[0;32m   <a href='file:///c%3A/Users/sstaheli/AppData/Local/Programs/Python/Python39-32/lib/site-packages/pandas/core/internals/managers.py?line=1589'>1590</a>\u001b[0m     \u001b[39m# The underlying data was copied within _interleave\u001b[39;00m\n\u001b[0;32m   <a href='file:///c%3A/Users/sstaheli/AppData/Local/Programs/Python/Python39-32/lib/site-packages/pandas/core/internals/managers.py?line=1590'>1591</a>\u001b[0m     copy \u001b[39m=\u001b[39m \u001b[39mFalse\u001b[39;00m\n",
            "File \u001b[1;32mc:\\Users\\sstaheli\\AppData\\Local\\Programs\\Python\\Python39-32\\lib\\site-packages\\pandas\\core\\internals\\managers.py:1628\u001b[0m, in \u001b[0;36mBlockManager._interleave\u001b[1;34m(self, dtype, na_value)\u001b[0m\n\u001b[0;32m   <a href='file:///c%3A/Users/sstaheli/AppData/Local/Programs/Python/Python39-32/lib/site-packages/pandas/core/internals/managers.py?line=1624'>1625</a>\u001b[0m \u001b[39melif\u001b[39;00m is_dtype_equal(dtype, \u001b[39mstr\u001b[39m):\n\u001b[0;32m   <a href='file:///c%3A/Users/sstaheli/AppData/Local/Programs/Python/Python39-32/lib/site-packages/pandas/core/internals/managers.py?line=1625'>1626</a>\u001b[0m     dtype \u001b[39m=\u001b[39m np\u001b[39m.\u001b[39mdtype(\u001b[39m\"\u001b[39m\u001b[39mobject\u001b[39m\u001b[39m\"\u001b[39m)\n\u001b[1;32m-> <a href='file:///c%3A/Users/sstaheli/AppData/Local/Programs/Python/Python39-32/lib/site-packages/pandas/core/internals/managers.py?line=1627'>1628</a>\u001b[0m result \u001b[39m=\u001b[39m np\u001b[39m.\u001b[39;49mempty(\u001b[39mself\u001b[39;49m\u001b[39m.\u001b[39;49mshape, dtype\u001b[39m=\u001b[39;49mdtype)\n\u001b[0;32m   <a href='file:///c%3A/Users/sstaheli/AppData/Local/Programs/Python/Python39-32/lib/site-packages/pandas/core/internals/managers.py?line=1629'>1630</a>\u001b[0m itemmask \u001b[39m=\u001b[39m np\u001b[39m.\u001b[39mzeros(\u001b[39mself\u001b[39m\u001b[39m.\u001b[39mshape[\u001b[39m0\u001b[39m])\n\u001b[0;32m   <a href='file:///c%3A/Users/sstaheli/AppData/Local/Programs/Python/Python39-32/lib/site-packages/pandas/core/internals/managers.py?line=1631'>1632</a>\u001b[0m \u001b[39mif\u001b[39;00m dtype \u001b[39m==\u001b[39m np\u001b[39m.\u001b[39mdtype(\u001b[39m\"\u001b[39m\u001b[39mobject\u001b[39m\u001b[39m\"\u001b[39m) \u001b[39mand\u001b[39;00m na_value \u001b[39mis\u001b[39;00m lib\u001b[39m.\u001b[39mno_default:\n\u001b[0;32m   <a href='file:///c%3A/Users/sstaheli/AppData/Local/Programs/Python/Python39-32/lib/site-packages/pandas/core/internals/managers.py?line=1632'>1633</a>\u001b[0m     \u001b[39m# much more performant than using to_numpy below\u001b[39;00m\n",
            "\u001b[1;31mMemoryError\u001b[0m: Unable to allocate 26.3 MiB for an array with shape (59, 58476) and data type float64"
          ]
        }
      ],
      "source": [
        "# Train it\n",
        "clf.fit(X_train, y_train)"
      ]
    },
    {
      "cell_type": "markdown",
      "metadata": {
        "id": "GSGNRPsLUgQx"
      },
      "source": [
        "## Test the Model"
      ]
    },
    {
      "cell_type": "code",
      "execution_count": null,
      "metadata": {
        "id": "-9VVaGwUUmTV"
      },
      "outputs": [],
      "source": [
        "# Test it \n",
        "clf.score(X_test, y_test)\n",
        "\n",
        "y_predicted = clf.predict(X_test)"
      ]
    },
    {
      "cell_type": "markdown",
      "metadata": {
        "id": "jfJmsjl-Ur6p"
      },
      "source": [
        "## The Confusion Matrix"
      ]
    },
    {
      "cell_type": "code",
      "execution_count": null,
      "metadata": {
        "colab": {
          "base_uri": "https://localhost:8080/",
          "height": 351
        },
        "id": "UQGNm3uWUujk",
        "outputId": "9ac5e66c-17b4-499a-f39e-9376eadc9426"
      },
      "outputs": [
        {
          "name": "stderr",
          "output_type": "stream",
          "text": [
            "c:\\Users\\sstaheli\\AppData\\Local\\Programs\\Python\\Python39-32\\lib\\site-packages\\sklearn\\utils\\deprecation.py:87: FutureWarning: Function plot_confusion_matrix is deprecated; Function `plot_confusion_matrix` is deprecated in 1.0 and will be removed in 1.2. Use one of the class methods: ConfusionMatrixDisplay.from_predictions or ConfusionMatrixDisplay.from_estimator.\n",
            "  warnings.warn(msg, category=FutureWarning)\n"
          ]
        },
        {
          "data": {
            "text/plain": [
              "<sklearn.metrics._plot.confusion_matrix.ConfusionMatrixDisplay at 0x30a29e68>"
            ]
          },
          "execution_count": 271,
          "metadata": {},
          "output_type": "execute_result"
        },
        {
          "data": {
            "image/png": "[encoded data removed]",
            "text/plain": [
              "<Figure size 432x288 with 2 Axes>"
            ]
          },
          "metadata": {
            "needs_background": "light"
          },
          "output_type": "display_data"
        }
      ],
      "source": [
        "from sklearn import metrics\n",
        "metrics.plot_confusion_matrix(clf, X_test, y_test)"
      ]
    },
    {
      "cell_type": "markdown",
      "metadata": {
        "id": "0PkHo2XRUxcc"
      },
      "source": [
        "## View Stats"
      ]
    },
    {
      "cell_type": "code",
      "execution_count": null,
      "metadata": {
        "colab": {
          "base_uri": "https://localhost:8080/"
        },
        "id": "zksTvR7FUwgg",
        "outputId": "730f3b26-9503-4e4b-eae9-2527ccf9a96d"
      },
      "outputs": [
        {
          "data": {
            "text/plain": [
              "'|              |   precision |   recall |   f1-score |     support |\\n|:-------------|------------:|---------:|-----------:|------------:|\\n| 0.0          |    0.936122 | 0.827586 |   0.878515 | 2001        |\\n| 1.0          |    0.850649 | 0.945621 |   0.895624 | 2078        |\\n| accuracy     |    0.887718 | 0.887718 |   0.887718 |    0.887718 |\\n| macro avg    |    0.893386 | 0.886603 |   0.88707  | 4079        |\\n| weighted avg |    0.892579 | 0.887718 |   0.887231 | 4079        |'"
            ]
          },
          "execution_count": 274,
          "metadata": {},
          "output_type": "execute_result"
        }
      ],
      "source": [
        "stats = metrics.classification_report(y_test, y_predicted, output_dict=True) #creates dict\n",
        "\n",
        "stats_data = pd.DataFrame(stats).transpose()\n",
        "stats_data.to_csv('CSV/write_to.csv')\n",
        "stats_data.to_markdown()"
      ]
    },
    {
      "cell_type": "markdown",
      "metadata": {
        "id": "qiU7m1OCU6Mi"
      },
      "source": [
        "## View the Tree(s)"
      ]
    },
    {
      "cell_type": "code",
      "execution_count": null,
      "metadata": {
        "colab": {
          "base_uri": "https://localhost:8080/"
        },
        "id": "Kj43oYAxU1Nz",
        "outputId": "e8de9463-672c-40b3-e452-54332cf335b6"
      },
      "outputs": [
        {
          "data": {
            "text/plain": [
              "'|    |   euribor3m |   campaign |   education |   cons.conf.idx |   nr.employed |   cons.price.idx |   month_may |     pdays |   housing_yes |   housing_no |   job_admin. |     young |   poutcome_success |   marital_married |    middle |   marital_single |   job_technician |   day_of_week_mon |   previous |   day_of_week_thu |   day_of_week_fri |   loan_no |   day_of_week_tue |   day_of_week_wed |   loan_yes |   middlish |   job_blue-collar |   poutcome_failure |   marital_divorced |   emp.var.rate |   contact_cellular |   job_services |       old |   contact_telephone |   job_management |    younger |   poutcome_nonexistent |   job_retired |   job_self-employed |   default_unknown |   default_no |      older |   job_entrepreneur |   job_unemployed |   month_apr |   month_mar |   job_housemaid |   month_jun |   housing_unknown |   loan_unknown |   month_jul |   month_nov |   month_oct |   month_aug |   month_sep |   job_unknown |   month_dec |   marital_unknown |\\n|---:|------------:|-----------:|------------:|----------------:|--------------:|-----------------:|------------:|----------:|--------------:|-------------:|-------------:|----------:|-------------------:|------------------:|----------:|-----------------:|-----------------:|------------------:|-----------:|------------------:|------------------:|----------:|------------------:|------------------:|-----------:|-----------:|------------------:|-------------------:|-------------------:|---------------:|-------------------:|---------------:|----------:|--------------------:|-----------------:|-----------:|-----------------------:|--------------:|--------------------:|------------------:|-------------:|-----------:|-------------------:|-----------------:|------------:|------------:|----------------:|------------:|------------------:|---------------:|------------:|------------:|------------:|------------:|------------:|--------------:|------------:|------------------:|\\n|  0 |    0.130294 |  0.0784782 |   0.0719612 |       0.0498448 |     0.0399554 |        0.0294763 |   0.0293905 | 0.0283769 |     0.0232249 |    0.0227634 |    0.0221525 | 0.0203975 |           0.020251 |         0.0197279 | 0.0188662 |         0.018808 |        0.0178055 |         0.0177701 |  0.0177033 |         0.0167481 |         0.0155345 | 0.0154555 |         0.0152647 |         0.0148078 |  0.0146076 |   0.014381 |         0.0140108 |          0.0117362 |          0.0117278 |      0.0116955 |          0.0114975 |      0.0112549 | 0.0109025 |           0.0108885 |        0.0105661 | 0.00954533 |             0.00940474 |    0.00874725 |          0.00845271 |        0.00814291 |   0.00777327 | 0.00642996 |         0.00631118 |       0.00579143 |  0.00533396 |  0.00470203 |      0.00466039 |  0.00348708 |        0.00326442 |     0.00325368 |  0.00257713 |  0.00254678 |  0.00249938 |  0.00240699 |  0.00232977 |    0.00225432 |  0.00104931 |       0.000709155 |'"
            ]
          },
          "execution_count": 273,
          "metadata": {},
          "output_type": "execute_result"
        }
      ],
      "source": [
        "# Test it \n",
        "feature_imp = pd.Series(clf.feature_importances_,index=X.columns).sort_values(ascending=False)\n",
        "\n",
        "feature_data = pd.DataFrame(feature_imp).transpose()\n",
        "feature_data.to_csv('CSV/write_to.csv')\n",
        "feature_data.to_markdown()"
      ]
    }
  ],
  "metadata": {
    "colab": {
      "authorship_tag": "ABX9TyPYb+aWl3YQZqq/0MySEDr5",
      "collapsed_sections": [],
      "include_colab_link": true,
      "name": "LearningModelRandomForest.ipynb",
      "provenance": []
    },
    "interpreter": {
      "hash": "61a8a38449cd87730cfc569f03425f5307feff6cab1037d5194af39db80abeb1"
    },
    "kernelspec": {
      "display_name": "Python 3.9.8 32-bit",
      "language": "python",
      "name": "python3"
    },
    "language_info": {
      "codemirror_mode": {
        "name": "ipython",
        "version": 3
      },
      "file_extension": ".py",
      "mimetype": "text/x-python",
      "name": "python",
      "nbconvert_exporter": "python",
      "pygments_lexer": "ipython3",
      "version": "3.9.8"
    }
  },
  "nbformat": 4,
  "nbformat_minor": 0
}
