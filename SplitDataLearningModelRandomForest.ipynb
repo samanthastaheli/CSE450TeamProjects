{
  "cells": [
    {
      "cell_type": "markdown",
      "metadata": {
        "colab_type": "text",
        "id": "view-in-github"
      },
      "source": [
        "<a href=\"https://colab.research.google.com/github/samanthastaheli/cse450_module2/blob/main/LearningModelRandomForest.ipynb\" target=\"_parent\"><img src=\"https://colab.research.google.com/assets/colab-badge.svg\" alt=\"Open In Colab\"/></a>"
      ]
    },
    {
      "cell_type": "markdown",
      "metadata": {
        "id": "AGvp6xOASIoe"
      },
      "source": [
        "# Machine Learning Model Document"
      ]
    },
    {
      "cell_type": "markdown",
      "metadata": {
        "id": "7pbeZKN5SMr_"
      },
      "source": [
        "## Import Pandas and the Data Set"
      ]
    },
    {
      "cell_type": "code",
      "execution_count": 45,
      "metadata": {
        "id": "XAfMUVxeSDmI"
      },
      "outputs": [
        {
          "name": "stdout",
          "output_type": "stream",
          "text": [
            "<class 'pandas.core.frame.DataFrame'>\n",
            "RangeIndex: 41188 entries, 0 to 41187\n",
            "Data columns (total 20 columns):\n",
            " #   Column          Non-Null Count  Dtype  \n",
            "---  ------          --------------  -----  \n",
            " 0   age             41188 non-null  int64  \n",
            " 1   job             41188 non-null  object \n",
            " 2   marital         41188 non-null  object \n",
            " 3   education       41188 non-null  object \n",
            " 4   default         41188 non-null  object \n",
            " 5   housing         41188 non-null  object \n",
            " 6   loan            41188 non-null  object \n",
            " 7   contact         41188 non-null  object \n",
            " 8   month           41188 non-null  object \n",
            " 9   day_of_week     41188 non-null  object \n",
            " 10  campaign        41188 non-null  int64  \n",
            " 11  pdays           41188 non-null  int64  \n",
            " 12  previous        41188 non-null  int64  \n",
            " 13  poutcome        41188 non-null  object \n",
            " 14  emp.var.rate    41188 non-null  float64\n",
            " 15  cons.price.idx  41188 non-null  float64\n",
            " 16  cons.conf.idx   41188 non-null  float64\n",
            " 17  euribor3m       41188 non-null  float64\n",
            " 18  nr.employed     41188 non-null  float64\n",
            " 19  y               41188 non-null  object \n",
            "dtypes: float64(5), int64(4), object(11)\n",
            "memory usage: 4.6+ MB\n"
          ]
        }
      ],
      "source": [
        "import pandas as pd\n",
        "\n",
        "campaign = pd.read_csv('https://raw.githubusercontent.com/byui-cse/cse450-course/master/data/bank.csv')\n",
        "\n",
        "campaign.info()"
      ]
    },
    {
      "cell_type": "code",
      "execution_count": 37,
      "metadata": {},
      "outputs": [
        {
          "data": {
            "text/plain": [
              " 1.4    16234\n",
              "-1.8     9184\n",
              " 1.1     7763\n",
              "-0.1     3683\n",
              "-2.9     1663\n",
              "-3.4     1071\n",
              "-1.7      773\n",
              "-1.1      635\n",
              "-3.0      172\n",
              "-0.2       10\n",
              "Name: emp.var.rate, dtype: int64"
            ]
          },
          "execution_count": 37,
          "metadata": {},
          "output_type": "execute_result"
        }
      ],
      "source": [
        "campaign[\"emp.var.rate\"].value_counts()\n",
        "# campaign[\"cons.price.idx\"].value_counts()\n",
        "# campaign[\"cons.conf.idx\"].value_counts()\n",
        "# campaign[\"euribor3m\"].value_counts()\n",
        "# campaign[\"nr.employed\"].value_counts()"
      ]
    },
    {
      "cell_type": "code",
      "execution_count": 38,
      "metadata": {},
      "outputs": [
        {
          "name": "stdout",
          "output_type": "stream",
          "text": [
            "<class 'pandas.core.frame.DataFrame'>\n",
            "Int64Index: 23997 entries, 0 to 23996\n",
            "Data columns (total 20 columns):\n",
            " #   Column          Non-Null Count  Dtype  \n",
            "---  ------          --------------  -----  \n",
            " 0   age             23997 non-null  int64  \n",
            " 1   job             23997 non-null  object \n",
            " 2   marital         23997 non-null  object \n",
            " 3   education       23997 non-null  object \n",
            " 4   default         23997 non-null  object \n",
            " 5   housing         23997 non-null  object \n",
            " 6   loan            23997 non-null  object \n",
            " 7   contact         23997 non-null  object \n",
            " 8   month           23997 non-null  object \n",
            " 9   day_of_week     23997 non-null  object \n",
            " 10  campaign        23997 non-null  int64  \n",
            " 11  pdays           23997 non-null  int64  \n",
            " 12  previous        23997 non-null  int64  \n",
            " 13  poutcome        23997 non-null  object \n",
            " 14  emp.var.rate    23997 non-null  float64\n",
            " 15  cons.price.idx  23997 non-null  float64\n",
            " 16  cons.conf.idx   23997 non-null  float64\n",
            " 17  euribor3m       23997 non-null  float64\n",
            " 18  nr.employed     23997 non-null  float64\n",
            " 19  y               23997 non-null  object \n",
            "dtypes: float64(5), int64(4), object(11)\n",
            "memory usage: 2.8+ MB\n"
          ]
        }
      ],
      "source": [
        "split_positive = campaign[campaign[\"emp.var.rate\"] >= 0]\n",
        "split_positive.info()"
      ]
    },
    {
      "cell_type": "markdown",
      "metadata": {
        "id": "LgT5rkd9WM9Q"
      },
      "source": [
        "## One Hot Encode"
      ]
    },
    {
      "cell_type": "code",
      "execution_count": 39,
      "metadata": {
        "colab": {
          "base_uri": "https://localhost:8080/"
        },
        "id": "RK1IRhWSWMYR",
        "outputId": "d7f2fcfc-d79d-44ea-d38b-b73d91f088f3"
      },
      "outputs": [
        {
          "name": "stderr",
          "output_type": "stream",
          "text": [
            "C:\\Users\\sstaheli\\AppData\\Local\\Temp\\ipykernel_2780\\1074840905.py:4: FutureWarning: The default value of regex will change from True to False in a future version.\n",
            "  ml_education = split_positive.education.str.replace(\"basic.4y\", '4').str.replace('basic.6y', '6').str.replace('basic.9y', '9').str.replace('high.school', '12').str.replace('professional.course', '14').str.replace('illiterate', '2').str.replace('university.degree', '16').str.replace('unknown', '0').astype('float')\n"
          ]
        }
      ],
      "source": [
        "#campaign_unknown = campaign.replace('unknown', np.nan)\n",
        "#campaign_drop_unknown = campaign_drop_unknown.dropna()\n",
        "\n",
        "ml_education = split_positive.education.str.replace(\"basic.4y\", '4').str.replace('basic.6y', '6').str.replace('basic.9y', '9').str.replace('high.school', '12').str.replace('professional.course', '14').str.replace('illiterate', '2').str.replace('university.degree', '16').str.replace('unknown', '0').astype('float')\n",
        "\n",
        "age_bins = [15, 25, 35, 45, 55, 65, 100]\n",
        "age_labels = [\"younger\", \"young\", \"middle\", \"middlish\", \"old\", \"older\"]\n",
        "\n",
        "str(age_labels)\n",
        "\n",
        "ml_age = pd.cut(split_positive['age'], bins=age_bins, labels=age_labels).astype(str)\n",
        "\n",
        "ml_age = pd.get_dummies(ml_age)\n",
        "\n",
        "ml_answers = split_positive.y.str.replace(\"no\", \"0\").str.replace(\"yes\", '1').astype('float')\n",
        "\n",
        "ml_pdays = split_positive.pdays.replace(999, -1)\n",
        "\n",
        "ml_onehot = pd.get_dummies(split_positive.filter(['job','month','marital', 'default', 'housing', 'loan', 'contact', 'day_of_week', 'poutcome']))"
      ]
    },
    {
      "cell_type": "code",
      "execution_count": 40,
      "metadata": {
        "id": "D5__DVLfWQVL"
      },
      "outputs": [],
      "source": [
        "final_ml = pd.concat([ml_onehot, \n",
        "                         split_positive.filter(['campaign', 'previous',\n",
        "       'emp.var.rate', 'cons.price.idx',\n",
        "       'cons.conf.idx', 'euribor3m', 'nr.employed']),\n",
        "                         ml_pdays,\n",
        "                         ml_age,\n",
        "                         ml_education], axis=1)\n",
        "\n",
        "\n",
        "\n",
        "final_ml = final_ml.drop(\"job_student\", axis = 1, inplace = False)"
      ]
    },
    {
      "cell_type": "markdown",
      "metadata": {
        "id": "-5tyguroSW3a"
      },
      "source": [
        "## View Dataframe Info"
      ]
    },
    {
      "cell_type": "code",
      "execution_count": 41,
      "metadata": {
        "colab": {
          "base_uri": "https://localhost:8080/"
        },
        "id": "0v1-NPinSVPM",
        "outputId": "36db9bab-4981-4256-feee-0235820ac2ea"
      },
      "outputs": [
        {
          "name": "stdout",
          "output_type": "stream",
          "text": [
            "<class 'pandas.core.frame.DataFrame'>\n",
            "Int64Index: 23997 entries, 0 to 23996\n",
            "Data columns (total 50 columns):\n",
            " #   Column                Non-Null Count  Dtype  \n",
            "---  ------                --------------  -----  \n",
            " 0   job_admin.            23997 non-null  uint8  \n",
            " 1   job_blue-collar       23997 non-null  uint8  \n",
            " 2   job_entrepreneur      23997 non-null  uint8  \n",
            " 3   job_housemaid         23997 non-null  uint8  \n",
            " 4   job_management        23997 non-null  uint8  \n",
            " 5   job_retired           23997 non-null  uint8  \n",
            " 6   job_self-employed     23997 non-null  uint8  \n",
            " 7   job_services          23997 non-null  uint8  \n",
            " 8   job_technician        23997 non-null  uint8  \n",
            " 9   job_unemployed        23997 non-null  uint8  \n",
            " 10  job_unknown           23997 non-null  uint8  \n",
            " 11  month_aug             23997 non-null  uint8  \n",
            " 12  month_jul             23997 non-null  uint8  \n",
            " 13  month_jun             23997 non-null  uint8  \n",
            " 14  month_may             23997 non-null  uint8  \n",
            " 15  marital_divorced      23997 non-null  uint8  \n",
            " 16  marital_married       23997 non-null  uint8  \n",
            " 17  marital_single        23997 non-null  uint8  \n",
            " 18  marital_unknown       23997 non-null  uint8  \n",
            " 19  default_no            23997 non-null  uint8  \n",
            " 20  default_unknown       23997 non-null  uint8  \n",
            " 21  default_yes           23997 non-null  uint8  \n",
            " 22  housing_no            23997 non-null  uint8  \n",
            " 23  housing_unknown       23997 non-null  uint8  \n",
            " 24  housing_yes           23997 non-null  uint8  \n",
            " 25  loan_no               23997 non-null  uint8  \n",
            " 26  loan_unknown          23997 non-null  uint8  \n",
            " 27  loan_yes              23997 non-null  uint8  \n",
            " 28  contact_cellular      23997 non-null  uint8  \n",
            " 29  contact_telephone     23997 non-null  uint8  \n",
            " 30  day_of_week_fri       23997 non-null  uint8  \n",
            " 31  day_of_week_mon       23997 non-null  uint8  \n",
            " 32  day_of_week_thu       23997 non-null  uint8  \n",
            " 33  day_of_week_tue       23997 non-null  uint8  \n",
            " 34  day_of_week_wed       23997 non-null  uint8  \n",
            " 35  poutcome_nonexistent  23997 non-null  uint8  \n",
            " 36  campaign              23997 non-null  int64  \n",
            " 37  previous              23997 non-null  int64  \n",
            " 38  emp.var.rate          23997 non-null  float64\n",
            " 39  cons.price.idx        23997 non-null  float64\n",
            " 40  cons.conf.idx         23997 non-null  float64\n",
            " 41  euribor3m             23997 non-null  float64\n",
            " 42  nr.employed           23997 non-null  float64\n",
            " 43  pdays                 23997 non-null  int64  \n",
            " 44  middle                23997 non-null  uint8  \n",
            " 45  middlish              23997 non-null  uint8  \n",
            " 46  old                   23997 non-null  uint8  \n",
            " 47  young                 23997 non-null  uint8  \n",
            " 48  younger               23997 non-null  uint8  \n",
            " 49  education             23997 non-null  float64\n",
            "dtypes: float64(6), int64(3), uint8(41)\n",
            "memory usage: 2.8 MB\n"
          ]
        }
      ],
      "source": [
        "final_ml.info()"
      ]
    },
    {
      "cell_type": "markdown",
      "metadata": {
        "id": "Yiw1U0pzS0kJ"
      },
      "source": [
        "## Import Libraries"
      ]
    },
    {
      "cell_type": "code",
      "execution_count": 42,
      "metadata": {
        "id": "l5U7tGqfTAx7"
      },
      "outputs": [],
      "source": [
        "# Model using poutcome, job, and marital\n",
        "from sklearn import tree\n",
        "from sklearn.ensemble import RandomForestClassifier\n",
        "from sklearn.tree import DecisionTreeClassifier\n",
        "from sklearn.preprocessing import OneHotEncoder\n",
        "from sklearn.model_selection import train_test_split\n",
        "from sklearn import metrics"
      ]
    },
    {
      "cell_type": "markdown",
      "metadata": {
        "id": "eQubW2KISiKF"
      },
      "source": [
        "## Select Features for the Training"
      ]
    },
    {
      "cell_type": "code",
      "execution_count": 46,
      "metadata": {
        "id": "Mq_V0wlMShOm"
      },
      "outputs": [],
      "source": [
        "features = ['job_admin.',\n",
        " 'job_blue-collar',\n",
        " 'job_entrepreneur',\n",
        " 'job_housemaid',\n",
        " 'job_management',\n",
        " 'job_retired',\n",
        " 'job_self-employed',\n",
        " 'job_services',\n",
        " 'job_technician',\n",
        " 'job_unemployed',\n",
        " 'job_unknown',\n",
        "#  'month_apr',\n",
        " 'month_aug',\n",
        "#  'month_dec',\n",
        " 'month_jul',\n",
        " 'month_jun',\n",
        "#  'month_mar',\n",
        " 'month_may',\n",
        "#  'month_nov',\n",
        "#  'month_oct',\n",
        "#  'month_sep',\n",
        " 'marital_divorced',\n",
        " 'marital_married',\n",
        " 'marital_single',\n",
        " 'marital_unknown',\n",
        " 'default_no',\n",
        " 'default_unknown',\n",
        " 'default_yes',\n",
        " 'housing_no',\n",
        " 'housing_unknown',\n",
        " 'housing_yes',\n",
        " 'loan_no',\n",
        " 'loan_unknown',\n",
        " 'loan_yes',\n",
        " 'contact_cellular',\n",
        " 'contact_telephone',\n",
        " 'day_of_week_fri',\n",
        " 'day_of_week_mon',\n",
        " 'day_of_week_thu',\n",
        " 'day_of_week_tue',\n",
        " 'day_of_week_wed',\n",
        "#  'poutcome_failure',\n",
        " 'poutcome_nonexistent',\n",
        "#  'poutcome_success',\n",
        " 'campaign',\n",
        " 'previous',\n",
        " 'emp.var.rate',\n",
        " 'cons.price.idx',\n",
        " 'cons.conf.idx',\n",
        " 'euribor3m',\n",
        " 'nr.employed',\n",
        " 'pdays',\n",
        " 'middle',\n",
        " 'middlish',\n",
        " 'old',\n",
        "#  'older',\n",
        " 'young',\n",
        " 'younger',\n",
        " 'education']"
      ]
    },
    {
      "cell_type": "markdown",
      "metadata": {
        "id": "rYA2bWGISuSm"
      },
      "source": [
        "## Drop NA and Prepare X and y"
      ]
    },
    {
      "cell_type": "code",
      "execution_count": 47,
      "metadata": {
        "id": "9CRFKgoiTTFa"
      },
      "outputs": [],
      "source": [
        "final_ml = final_ml.dropna()\n",
        "X = pd.get_dummies(final_ml[features], drop_first=True)\n",
        "y = ml_answers"
      ]
    },
    {
      "cell_type": "markdown",
      "metadata": {
        "id": "dXFPTKWKTsSn"
      },
      "source": [
        "## Balance the Data Set"
      ]
    },
    {
      "cell_type": "code",
      "execution_count": 48,
      "metadata": {
        "id": "P2yMr3SMT5UW"
      },
      "outputs": [],
      "source": [
        "from imblearn.over_sampling import RandomOverSampler\n",
        "ro = RandomOverSampler()\n",
        "X_new, y_new = ro.fit_resample(X, y)"
      ]
    },
    {
      "cell_type": "markdown",
      "metadata": {
        "id": "6EiFfAo0UPDG"
      },
      "source": [
        "## Split into the Train and Test sets and Build the Tree\n"
      ]
    },
    {
      "cell_type": "code",
      "execution_count": 49,
      "metadata": {
        "id": "Ok0xBaYWUOYU"
      },
      "outputs": [],
      "source": [
        "# Split our data into training and test data, with 30% reserved for testing\n",
        "X_train, X_test, y_train, y_test = train_test_split(X_new, y_new, test_size=0.20)\n",
        "\n",
        "# Build the decision forest\n",
        "clf = RandomForestClassifier(n_estimators = 100)"
      ]
    },
    {
      "cell_type": "markdown",
      "metadata": {
        "id": "jCVWxL7iUbFC"
      },
      "source": [
        "## Train the Model"
      ]
    },
    {
      "cell_type": "code",
      "execution_count": 50,
      "metadata": {
        "colab": {
          "base_uri": "https://localhost:8080/"
        },
        "id": "ts1hPyqjUaVi",
        "outputId": "e8afbf61-589e-4c82-de29-323891ae89e1"
      },
      "outputs": [
        {
          "data": {
            "text/plain": [
              "RandomForestClassifier()"
            ]
          },
          "execution_count": 50,
          "metadata": {},
          "output_type": "execute_result"
        }
      ],
      "source": [
        "# Train it\n",
        "clf.fit(X_train, y_train)"
      ]
    },
    {
      "cell_type": "markdown",
      "metadata": {
        "id": "GSGNRPsLUgQx"
      },
      "source": [
        "## Test the Model"
      ]
    },
    {
      "cell_type": "code",
      "execution_count": 51,
      "metadata": {
        "id": "-9VVaGwUUmTV"
      },
      "outputs": [],
      "source": [
        "# Test it \n",
        "clf.score(X_test, y_test)\n",
        "\n",
        "y_predicted = clf.predict(X_test)"
      ]
    },
    {
      "cell_type": "markdown",
      "metadata": {
        "id": "jfJmsjl-Ur6p"
      },
      "source": [
        "## The Confusion Matrix"
      ]
    },
    {
      "cell_type": "code",
      "execution_count": 52,
      "metadata": {
        "colab": {
          "base_uri": "https://localhost:8080/",
          "height": 351
        },
        "id": "UQGNm3uWUujk",
        "outputId": "9ac5e66c-17b4-499a-f39e-9376eadc9426"
      },
      "outputs": [
        {
          "name": "stderr",
          "output_type": "stream",
          "text": [
            "c:\\Users\\sstaheli\\AppData\\Local\\Programs\\Python\\Python39-32\\lib\\site-packages\\sklearn\\utils\\deprecation.py:87: FutureWarning: Function plot_confusion_matrix is deprecated; Function `plot_confusion_matrix` is deprecated in 1.0 and will be removed in 1.2. Use one of the class methods: ConfusionMatrixDisplay.from_predictions or ConfusionMatrixDisplay.from_estimator.\n",
            "  warnings.warn(msg, category=FutureWarning)\n"
          ]
        },
        {
          "data": {
            "text/plain": [
              "<sklearn.metrics._plot.confusion_matrix.ConfusionMatrixDisplay at 0x19bb4d00>"
            ]
          },
          "execution_count": 52,
          "metadata": {},
          "output_type": "execute_result"
        },
        {
          "data": {
            "image/png": "[encoded data removed]",
            "text/plain": [
              "<Figure size 432x288 with 2 Axes>"
            ]
          },
          "metadata": {
            "needs_background": "light"
          },
          "output_type": "display_data"
        }
      ],
      "source": [
        "from sklearn import metrics\n",
        "metrics.plot_confusion_matrix(clf, X_test, y_test)"
      ]
    },
    {
      "cell_type": "markdown",
      "metadata": {
        "id": "0PkHo2XRUxcc"
      },
      "source": [
        "## View Stats"
      ]
    },
    {
      "cell_type": "code",
      "execution_count": 57,
      "metadata": {
        "colab": {
          "base_uri": "https://localhost:8080/"
        },
        "id": "zksTvR7FUwgg",
        "outputId": "730f3b26-9503-4e4b-eae9-2527ccf9a96d"
      },
      "outputs": [
        {
          "name": "stdout",
          "output_type": "stream",
          "text": [
            "              precision    recall  f1-score   support\n",
            "\n",
            "         0.0       1.00      0.97      0.98      4613\n",
            "         1.0       0.97      1.00      0.98      4544\n",
            "\n",
            "    accuracy                           0.98      9157\n",
            "   macro avg       0.98      0.98      0.98      9157\n",
            "weighted avg       0.98      0.98      0.98      9157\n",
            "\n"
          ]
        }
      ],
      "source": [
        "stats = metrics.classification_report(y_test, y_predicted)\n",
        "print(stats)"
      ]
    },
    {
      "cell_type": "markdown",
      "metadata": {
        "id": "qiU7m1OCU6Mi"
      },
      "source": [
        "## View the Tree(s)"
      ]
    },
    {
      "cell_type": "code",
      "execution_count": null,
      "metadata": {
        "colab": {
          "base_uri": "https://localhost:8080/"
        },
        "id": "Kj43oYAxU1Nz",
        "outputId": "e8de9463-672c-40b3-e452-54332cf335b6"
      },
      "outputs": [
        {
          "data": {
            "text/plain": [
              "euribor3m         0.356197\n",
              "nr.employed       0.303748\n",
              "emp.var.rate      0.168730\n",
              "cons.conf.idx     0.128743\n",
              "cons.price.idx    0.042582\n",
              "dtype: float64"
            ]
          },
          "execution_count": 32,
          "metadata": {},
          "output_type": "execute_result"
        }
      ],
      "source": [
        "# Test it \n",
        "feature_imp = pd.Series(clf.feature_importances_,index=X.columns).sort_values(ascending=False)\n",
        "feature_imp"
      ]
    }
  ],
  "metadata": {
    "colab": {
      "authorship_tag": "ABX9TyPYb+aWl3YQZqq/0MySEDr5",
      "collapsed_sections": [],
      "include_colab_link": true,
      "name": "LearningModelRandomForest.ipynb",
      "provenance": []
    },
    "interpreter": {
      "hash": "61a8a38449cd87730cfc569f03425f5307feff6cab1037d5194af39db80abeb1"
    },
    "kernelspec": {
      "display_name": "Python 3.9.8 32-bit",
      "language": "python",
      "name": "python3"
    },
    "language_info": {
      "codemirror_mode": {
        "name": "ipython",
        "version": 3
      },
      "file_extension": ".py",
      "mimetype": "text/x-python",
      "name": "python",
      "nbconvert_exporter": "python",
      "pygments_lexer": "ipython3",
      "version": "3.9.8"
    }
  },
  "nbformat": 4,
  "nbformat_minor": 0
}
