{
  "cells": [
    {
      "cell_type": "markdown",
      "metadata": {
        "colab_type": "text",
        "id": "view-in-github"
      },
      "source": [
        "<a href=\"https://colab.research.google.com/github/samanthastaheli/cse450_module2/blob/main/LearningModelRandomForest.ipynb\" target=\"_parent\"><img src=\"https://colab.research.google.com/assets/colab-badge.svg\" alt=\"Open In Colab\"/></a>"
      ]
    },
    {
      "cell_type": "markdown",
      "metadata": {
        "id": "AGvp6xOASIoe"
      },
      "source": [
        "# Machine Learning Model Document"
      ]
    },
    {
      "cell_type": "markdown",
      "metadata": {
        "id": "7pbeZKN5SMr_"
      },
      "source": [
        "## Import Pandas and the Data Set"
      ]
    },
    {
      "cell_type": "code",
      "execution_count": 48,
      "metadata": {
        "id": "XAfMUVxeSDmI"
      },
      "outputs": [],
      "source": [
        "import pandas as pd\n",
        "\n",
        "campaign = pd.read_csv('https://raw.githubusercontent.com/byui-cse/cse450-course/master/data/bank.csv')"
      ]
    },
    {
      "cell_type": "code",
      "execution_count": 49,
      "metadata": {},
      "outputs": [],
      "source": [
        "# campaign[\"emp.var.rate\"].value_counts() #done\n",
        "# campaign[\"cons.price.idx\"].value_counts() #done\n",
        "# campaign[\"cons.conf.idx\"].value_counts() #done\n",
        "# campaign[\"euribor3m\"].value_counts() #done\n",
        "# campaign[\"nr.employed\"].value_counts() #done\n",
        "# avg = campaign[\"nr.employed\"].mean() #done\n",
        "# print(avg)"
      ]
    },
    {
      "cell_type": "code",
      "execution_count": 50,
      "metadata": {},
      "outputs": [
        {
          "name": "stdout",
          "output_type": "stream",
          "text": [
            "<class 'pandas.core.frame.DataFrame'>\n",
            "RangeIndex: 41188 entries, 0 to 41187\n",
            "Data columns (total 16 columns):\n",
            " #   Column         Non-Null Count  Dtype  \n",
            "---  ------         --------------  -----  \n",
            " 0   age            41188 non-null  int64  \n",
            " 1   job            41188 non-null  object \n",
            " 2   marital        41188 non-null  object \n",
            " 3   education      41188 non-null  object \n",
            " 4   default        41188 non-null  object \n",
            " 5   housing        41188 non-null  object \n",
            " 6   loan           41188 non-null  object \n",
            " 7   contact        41188 non-null  object \n",
            " 8   month          41188 non-null  object \n",
            " 9   day_of_week    41188 non-null  object \n",
            " 10  campaign       41188 non-null  int64  \n",
            " 11  pdays          41188 non-null  int64  \n",
            " 12  previous       41188 non-null  int64  \n",
            " 13  poutcome       41188 non-null  object \n",
            " 14  cons.conf.idx  41188 non-null  float64\n",
            " 15  y              41188 non-null  object \n",
            "dtypes: float64(1), int64(4), object(11)\n",
            "memory usage: 3.3+ MB\n"
          ]
        }
      ],
      "source": [
        "split_data = campaign.drop(columns=[\"emp.var.rate\", \"cons.price.idx\", \"euribor3m\", \"nr.employed\"])\n",
        "split_data.info()"
      ]
    },
    {
      "cell_type": "markdown",
      "metadata": {
        "id": "LgT5rkd9WM9Q"
      },
      "source": [
        "## One Hot Encode"
      ]
    },
    {
      "cell_type": "code",
      "execution_count": 51,
      "metadata": {
        "colab": {
          "base_uri": "https://localhost:8080/"
        },
        "id": "RK1IRhWSWMYR",
        "outputId": "d7f2fcfc-d79d-44ea-d38b-b73d91f088f3"
      },
      "outputs": [
        {
          "name": "stderr",
          "output_type": "stream",
          "text": [
            "C:\\Users\\sstaheli\\AppData\\Local\\Temp\\ipykernel_18472\\19264052.py:1: FutureWarning: The default value of regex will change from True to False in a future version.\n",
            "  ml_education = split_data.education.str.replace(\"basic.4y\", '4').str.replace('basic.6y', '6').str.replace('basic.9y', '9').str.replace('high.school', '12').str.replace('professional.course', '14').str.replace('illiterate', '2').str.replace('university.degree', '16').str.replace('unknown', '0').astype('float')\n"
          ]
        }
      ],
      "source": [
        "ml_education = split_data.education.str.replace(\"basic.4y\", '4').str.replace('basic.6y', '6').str.replace('basic.9y', '9').str.replace('high.school', '12').str.replace('professional.course', '14').str.replace('illiterate', '2').str.replace('university.degree', '16').str.replace('unknown', '0').astype('float')\n",
        "\n",
        "age_bins = [15, 25, 35, 45, 55, 65, 100]\n",
        "age_labels = [\"younger\", \"young\", \"middle\", \"middlish\", \"old\", \"older\"]\n",
        "\n",
        "str(age_labels)\n",
        "\n",
        "ml_age = pd.cut(split_data['age'], bins=age_bins, labels=age_labels).astype(str)\n",
        "\n",
        "ml_age = pd.get_dummies(ml_age)\n",
        "\n",
        "ml_answers = split_data.y.str.replace(\"no\", \"0\").str.replace(\"yes\", '1').astype('float')\n",
        "\n",
        "ml_pdays = split_data.pdays.replace(999, -1)\n",
        "\n",
        "ml_onehot = pd.get_dummies(split_data.filter(['job','month','marital', 'default', 'housing', 'loan', 'contact', 'day_of_week', 'poutcome']))"
      ]
    },
    {
      "cell_type": "code",
      "execution_count": 52,
      "metadata": {
        "id": "D5__DVLfWQVL"
      },
      "outputs": [],
      "source": [
        "final_ml = pd.concat([ml_onehot, \n",
        "                         split_data.filter(['campaign', 'previous',\n",
        "       'emp.var.rate', 'cons.price.idx',\n",
        "       'cons.conf.idx', 'euribor3m', 'nr.employed']),\n",
        "                         ml_pdays,\n",
        "                         ml_age,\n",
        "                         ml_education], axis=1)\n",
        "\n",
        "\n",
        "\n",
        "final_ml = final_ml.drop(\"job_student\", axis = 1, inplace = False)"
      ]
    },
    {
      "cell_type": "markdown",
      "metadata": {
        "id": "-5tyguroSW3a"
      },
      "source": [
        "## View Dataframe Info"
      ]
    },
    {
      "cell_type": "code",
      "execution_count": 53,
      "metadata": {
        "colab": {
          "base_uri": "https://localhost:8080/"
        },
        "id": "0v1-NPinSVPM",
        "outputId": "36db9bab-4981-4256-feee-0235820ac2ea"
      },
      "outputs": [
        {
          "name": "stdout",
          "output_type": "stream",
          "text": [
            "<class 'pandas.core.frame.DataFrame'>\n",
            "RangeIndex: 41188 entries, 0 to 41187\n",
            "Data columns (total 55 columns):\n",
            " #   Column                Non-Null Count  Dtype  \n",
            "---  ------                --------------  -----  \n",
            " 0   job_admin.            41188 non-null  uint8  \n",
            " 1   job_blue-collar       41188 non-null  uint8  \n",
            " 2   job_entrepreneur      41188 non-null  uint8  \n",
            " 3   job_housemaid         41188 non-null  uint8  \n",
            " 4   job_management        41188 non-null  uint8  \n",
            " 5   job_retired           41188 non-null  uint8  \n",
            " 6   job_self-employed     41188 non-null  uint8  \n",
            " 7   job_services          41188 non-null  uint8  \n",
            " 8   job_technician        41188 non-null  uint8  \n",
            " 9   job_unemployed        41188 non-null  uint8  \n",
            " 10  job_unknown           41188 non-null  uint8  \n",
            " 11  month_apr             41188 non-null  uint8  \n",
            " 12  month_aug             41188 non-null  uint8  \n",
            " 13  month_dec             41188 non-null  uint8  \n",
            " 14  month_jul             41188 non-null  uint8  \n",
            " 15  month_jun             41188 non-null  uint8  \n",
            " 16  month_mar             41188 non-null  uint8  \n",
            " 17  month_may             41188 non-null  uint8  \n",
            " 18  month_nov             41188 non-null  uint8  \n",
            " 19  month_oct             41188 non-null  uint8  \n",
            " 20  month_sep             41188 non-null  uint8  \n",
            " 21  marital_divorced      41188 non-null  uint8  \n",
            " 22  marital_married       41188 non-null  uint8  \n",
            " 23  marital_single        41188 non-null  uint8  \n",
            " 24  marital_unknown       41188 non-null  uint8  \n",
            " 25  default_no            41188 non-null  uint8  \n",
            " 26  default_unknown       41188 non-null  uint8  \n",
            " 27  default_yes           41188 non-null  uint8  \n",
            " 28  housing_no            41188 non-null  uint8  \n",
            " 29  housing_unknown       41188 non-null  uint8  \n",
            " 30  housing_yes           41188 non-null  uint8  \n",
            " 31  loan_no               41188 non-null  uint8  \n",
            " 32  loan_unknown          41188 non-null  uint8  \n",
            " 33  loan_yes              41188 non-null  uint8  \n",
            " 34  contact_cellular      41188 non-null  uint8  \n",
            " 35  contact_telephone     41188 non-null  uint8  \n",
            " 36  day_of_week_fri       41188 non-null  uint8  \n",
            " 37  day_of_week_mon       41188 non-null  uint8  \n",
            " 38  day_of_week_thu       41188 non-null  uint8  \n",
            " 39  day_of_week_tue       41188 non-null  uint8  \n",
            " 40  day_of_week_wed       41188 non-null  uint8  \n",
            " 41  poutcome_failure      41188 non-null  uint8  \n",
            " 42  poutcome_nonexistent  41188 non-null  uint8  \n",
            " 43  poutcome_success      41188 non-null  uint8  \n",
            " 44  campaign              41188 non-null  int64  \n",
            " 45  previous              41188 non-null  int64  \n",
            " 46  cons.conf.idx         41188 non-null  float64\n",
            " 47  pdays                 41188 non-null  int64  \n",
            " 48  middle                41188 non-null  uint8  \n",
            " 49  middlish              41188 non-null  uint8  \n",
            " 50  old                   41188 non-null  uint8  \n",
            " 51  older                 41188 non-null  uint8  \n",
            " 52  young                 41188 non-null  uint8  \n",
            " 53  younger               41188 non-null  uint8  \n",
            " 54  education             41188 non-null  float64\n",
            "dtypes: float64(2), int64(3), uint8(50)\n",
            "memory usage: 3.5 MB\n"
          ]
        }
      ],
      "source": [
        "final_ml.info()"
      ]
    },
    {
      "cell_type": "markdown",
      "metadata": {
        "id": "Yiw1U0pzS0kJ"
      },
      "source": [
        "## Import Libraries"
      ]
    },
    {
      "cell_type": "code",
      "execution_count": 54,
      "metadata": {
        "id": "l5U7tGqfTAx7"
      },
      "outputs": [],
      "source": [
        "# Model using poutcome, job, and marital\n",
        "from sklearn import tree\n",
        "from sklearn.ensemble import RandomForestClassifier\n",
        "from sklearn.tree import DecisionTreeClassifier\n",
        "from sklearn.preprocessing import OneHotEncoder\n",
        "from sklearn.model_selection import train_test_split\n",
        "from sklearn import metrics"
      ]
    },
    {
      "cell_type": "markdown",
      "metadata": {
        "id": "eQubW2KISiKF"
      },
      "source": [
        "## Select Features for the Training"
      ]
    },
    {
      "cell_type": "code",
      "execution_count": 55,
      "metadata": {
        "id": "Mq_V0wlMShOm"
      },
      "outputs": [],
      "source": [
        "features = ['job_admin.',\n",
        " 'job_blue-collar',\n",
        " 'job_entrepreneur',\n",
        " 'job_housemaid',\n",
        " 'job_management',\n",
        " 'job_retired',\n",
        " 'job_self-employed',\n",
        " 'job_services',\n",
        " 'job_technician',\n",
        " 'job_unemployed',\n",
        " 'job_unknown',\n",
        " 'month_apr',\n",
        " 'month_aug',\n",
        " 'month_dec',\n",
        " 'month_jul',\n",
        " 'month_jun',\n",
        " 'month_mar',\n",
        " 'month_may',\n",
        " 'month_nov',\n",
        " 'month_oct',\n",
        " 'month_sep',\n",
        " 'marital_divorced',\n",
        " 'marital_married',\n",
        " 'marital_single',\n",
        " 'marital_unknown',\n",
        " 'default_no',\n",
        " 'default_unknown',\n",
        " 'default_yes',\n",
        " 'housing_no',\n",
        " 'housing_unknown',\n",
        " 'housing_yes',\n",
        " 'loan_no',\n",
        " 'loan_unknown',\n",
        " 'loan_yes',\n",
        " 'contact_cellular',\n",
        " 'contact_telephone',\n",
        " 'day_of_week_fri',\n",
        " 'day_of_week_mon',\n",
        " 'day_of_week_thu',\n",
        " 'day_of_week_tue',\n",
        " 'day_of_week_wed',\n",
        " 'poutcome_failure',\n",
        " 'poutcome_nonexistent',\n",
        " 'poutcome_success',\n",
        " 'campaign',\n",
        " 'previous',\n",
        "#  'emp.var.rate',\n",
        "#  'cons.price.idx',\n",
        " 'cons.conf.idx',\n",
        "#  'euribor3m',\n",
        "#  'nr.employed',\n",
        " 'pdays',\n",
        " 'middle',\n",
        " 'middlish',\n",
        " 'old',\n",
        " 'older',\n",
        " 'young',\n",
        " 'younger',\n",
        " 'education']"
      ]
    },
    {
      "cell_type": "markdown",
      "metadata": {
        "id": "rYA2bWGISuSm"
      },
      "source": [
        "## Drop NA and Prepare X and y"
      ]
    },
    {
      "cell_type": "code",
      "execution_count": 56,
      "metadata": {
        "id": "9CRFKgoiTTFa"
      },
      "outputs": [],
      "source": [
        "final_ml = final_ml.dropna()\n",
        "X = pd.get_dummies(final_ml[features], drop_first=True)\n",
        "y = ml_answers"
      ]
    },
    {
      "cell_type": "markdown",
      "metadata": {
        "id": "dXFPTKWKTsSn"
      },
      "source": [
        "## Balance the Data Set"
      ]
    },
    {
      "cell_type": "code",
      "execution_count": 57,
      "metadata": {
        "id": "P2yMr3SMT5UW"
      },
      "outputs": [],
      "source": [
        "from imblearn.over_sampling import RandomOverSampler\n",
        "ro = RandomOverSampler()\n",
        "X_new, y_new = ro.fit_resample(X, y)"
      ]
    },
    {
      "cell_type": "markdown",
      "metadata": {
        "id": "6EiFfAo0UPDG"
      },
      "source": [
        "## Split into the Train and Test sets and Build the Tree\n"
      ]
    },
    {
      "cell_type": "code",
      "execution_count": 58,
      "metadata": {
        "id": "Ok0xBaYWUOYU"
      },
      "outputs": [],
      "source": [
        "# Split our data into training and test data, with 30% reserved for testing\n",
        "X_train, X_test, y_train, y_test = train_test_split(X_new, y_new, test_size=0.20)\n",
        "\n",
        "# Build the decision forest\n",
        "clf = RandomForestClassifier(n_estimators = 100)"
      ]
    },
    {
      "cell_type": "markdown",
      "metadata": {
        "id": "jCVWxL7iUbFC"
      },
      "source": [
        "## Train the Model"
      ]
    },
    {
      "cell_type": "code",
      "execution_count": 59,
      "metadata": {
        "colab": {
          "base_uri": "https://localhost:8080/"
        },
        "id": "ts1hPyqjUaVi",
        "outputId": "e8afbf61-589e-4c82-de29-323891ae89e1"
      },
      "outputs": [
        {
          "data": {
            "text/plain": [
              "RandomForestClassifier()"
            ]
          },
          "execution_count": 59,
          "metadata": {},
          "output_type": "execute_result"
        }
      ],
      "source": [
        "# Train it\n",
        "clf.fit(X_train, y_train)"
      ]
    },
    {
      "cell_type": "markdown",
      "metadata": {
        "id": "GSGNRPsLUgQx"
      },
      "source": [
        "## Test the Model"
      ]
    },
    {
      "cell_type": "code",
      "execution_count": 60,
      "metadata": {
        "id": "-9VVaGwUUmTV"
      },
      "outputs": [],
      "source": [
        "# Test it \n",
        "clf.score(X_test, y_test)\n",
        "\n",
        "y_predicted = clf.predict(X_test)"
      ]
    },
    {
      "cell_type": "markdown",
      "metadata": {
        "id": "jfJmsjl-Ur6p"
      },
      "source": [
        "## The Confusion Matrix"
      ]
    },
    {
      "cell_type": "code",
      "execution_count": 61,
      "metadata": {
        "colab": {
          "base_uri": "https://localhost:8080/",
          "height": 351
        },
        "id": "UQGNm3uWUujk",
        "outputId": "9ac5e66c-17b4-499a-f39e-9376eadc9426"
      },
      "outputs": [
        {
          "name": "stderr",
          "output_type": "stream",
          "text": [
            "c:\\Users\\sstaheli\\AppData\\Local\\Programs\\Python\\Python39-32\\lib\\site-packages\\sklearn\\utils\\deprecation.py:87: FutureWarning: Function plot_confusion_matrix is deprecated; Function `plot_confusion_matrix` is deprecated in 1.0 and will be removed in 1.2. Use one of the class methods: ConfusionMatrixDisplay.from_predictions or ConfusionMatrixDisplay.from_estimator.\n",
            "  warnings.warn(msg, category=FutureWarning)\n"
          ]
        },
        {
          "data": {
            "text/plain": [
              "<sklearn.metrics._plot.confusion_matrix.ConfusionMatrixDisplay at 0x1bc19fb8>"
            ]
          },
          "execution_count": 61,
          "metadata": {},
          "output_type": "execute_result"
        },
        {
          "data": {
            "image/png": "[encoded data removed]",
            "text/plain": [
              "<Figure size 432x288 with 2 Axes>"
            ]
          },
          "metadata": {
            "needs_background": "light"
          },
          "output_type": "display_data"
        }
      ],
      "source": [
        "from sklearn import metrics\n",
        "metrics.plot_confusion_matrix(clf, X_test, y_test)"
      ]
    },
    {
      "cell_type": "markdown",
      "metadata": {
        "id": "0PkHo2XRUxcc"
      },
      "source": [
        "## View Stats"
      ]
    },
    {
      "cell_type": "code",
      "execution_count": 62,
      "metadata": {
        "colab": {
          "base_uri": "https://localhost:8080/"
        },
        "id": "zksTvR7FUwgg",
        "outputId": "730f3b26-9503-4e4b-eae9-2527ccf9a96d"
      },
      "outputs": [
        {
          "data": {
            "text/plain": [
              "'|              |   precision |   recall |   f1-score |      support |\\n|:-------------|------------:|---------:|-----------:|-------------:|\\n| 0.0          |    0.991658 | 0.904484 |   0.946067 |  7360        |\\n| 1.0          |    0.911091 | 0.992287 |   0.949957 |  7260        |\\n| accuracy     |    0.948085 | 0.948085 |   0.948085 |     0.948085 |\\n| macro avg    |    0.951375 | 0.948385 |   0.948012 | 14620        |\\n| weighted avg |    0.95165  | 0.948085 |   0.947999 | 14620        |'"
            ]
          },
          "execution_count": 62,
          "metadata": {},
          "output_type": "execute_result"
        }
      ],
      "source": [
        "stats = metrics.classification_report(y_test, y_predicted, output_dict=True) #creates dict\n",
        "\n",
        "stats_data = pd.DataFrame(stats).transpose()\n",
        "stats_data.to_csv('CSV/write_to.csv')\n",
        "stats_data.to_markdown()"
      ]
    },
    {
      "cell_type": "markdown",
      "metadata": {
        "id": "qiU7m1OCU6Mi"
      },
      "source": [
        "## View the Tree(s)"
      ]
    },
    {
      "cell_type": "code",
      "execution_count": 63,
      "metadata": {
        "colab": {
          "base_uri": "https://localhost:8080/"
        },
        "id": "Kj43oYAxU1Nz",
        "outputId": "e8de9463-672c-40b3-e452-54332cf335b6"
      },
      "outputs": [
        {
          "data": {
            "text/plain": [
              "'|    |   campaign |   cons.conf.idx |   education |     pdays |   poutcome_success |   contact_telephone |   housing_yes |   housing_no |   job_admin. |   day_of_week_thu |   day_of_week_mon |   day_of_week_fri |   day_of_week_wed |   day_of_week_tue |   previous |   middle |     young |   marital_married |   job_technician |   job_blue-collar |   marital_single |   loan_no |   contact_cellular |   poutcome_nonexistent |   loan_yes |   middlish |   month_may |   job_services |   marital_divorced |   job_management |   month_jun |   default_no |   month_oct |   default_unknown |   month_mar |        old |   month_apr |   job_self-employed |   month_jul |   month_nov |   month_aug |   job_entrepreneur |   poutcome_failure |    younger |   job_retired |   month_sep |      older |   job_unemployed |   job_housemaid |   housing_unknown |   loan_unknown |   job_unknown |   month_dec |   marital_unknown |   default_yes |\\n|---:|-----------:|----------------:|------------:|----------:|-------------------:|--------------------:|--------------:|-------------:|-------------:|------------------:|------------------:|------------------:|------------------:|------------------:|-----------:|---------:|----------:|------------------:|-----------------:|------------------:|-----------------:|----------:|-------------------:|-----------------------:|-----------:|-----------:|------------:|---------------:|-------------------:|-----------------:|------------:|-------------:|------------:|------------------:|------------:|-----------:|------------:|--------------------:|------------:|------------:|------------:|-------------------:|-------------------:|-----------:|--------------:|------------:|-----------:|-----------------:|----------------:|------------------:|---------------:|--------------:|------------:|------------------:|--------------:|\\n|  0 |   0.120592 |        0.105308 |   0.0977971 | 0.0318794 |          0.0268847 |           0.0239368 |     0.0220727 |    0.0219835 |     0.021965 |         0.0209865 |         0.0209271 |         0.0207091 |          0.020633 |         0.0200177 |  0.0190018 |  0.01874 | 0.0187154 |         0.0184985 |        0.0169594 |         0.0161043 |        0.0160665 | 0.0159668 |          0.0156495 |              0.0156373 |  0.0155667 |  0.0152351 |   0.0143058 |      0.0132405 |          0.0127069 |        0.0125847 |   0.0121448 |    0.0118358 |   0.0103273 |        0.00983314 |  0.00966526 | 0.00933186 |  0.00932392 |          0.00860237 |  0.00851498 |  0.00830286 |  0.00822232 |          0.0081934 |         0.00768603 | 0.00705129 |    0.00705119 |  0.00582932 | 0.00563673 |       0.00559242 |       0.0052871 |        0.00292764 |     0.00286154 |    0.00242755 |  0.00164042 |        0.00103445 |   3.98013e-06 |'"
            ]
          },
          "execution_count": 63,
          "metadata": {},
          "output_type": "execute_result"
        }
      ],
      "source": [
        "# Test it \n",
        "feature_imp = pd.Series(clf.feature_importances_,index=X.columns).sort_values(ascending=False)\n",
        "\n",
        "feature_data = pd.DataFrame(feature_imp).transpose()\n",
        "feature_data.to_csv('CSV/write_to.csv')\n",
        "feature_data.to_markdown()"
      ]
    }
  ],
  "metadata": {
    "colab": {
      "authorship_tag": "ABX9TyPYb+aWl3YQZqq/0MySEDr5",
      "collapsed_sections": [],
      "include_colab_link": true,
      "name": "LearningModelRandomForest.ipynb",
      "provenance": []
    },
    "interpreter": {
      "hash": "61a8a38449cd87730cfc569f03425f5307feff6cab1037d5194af39db80abeb1"
    },
    "kernelspec": {
      "display_name": "Python 3.9.8 32-bit",
      "language": "python",
      "name": "python3"
    },
    "language_info": {
      "codemirror_mode": {
        "name": "ipython",
        "version": 3
      },
      "file_extension": ".py",
      "mimetype": "text/x-python",
      "name": "python",
      "nbconvert_exporter": "python",
      "pygments_lexer": "ipython3",
      "version": "3.9.8"
    }
  },
  "nbformat": 4,
  "nbformat_minor": 0
}
