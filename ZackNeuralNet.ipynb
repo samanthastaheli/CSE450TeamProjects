{
  "nbformat": 4,
  "nbformat_minor": 0,
  "metadata": {
    "colab": {
      "name": "ZackNeuralNet.ipynb",
      "provenance": [],
      "collapsed_sections": [],
      "include_colab_link": true
    },
    "kernelspec": {
      "name": "python3",
      "display_name": "Python 3"
    },
    "language_info": {
      "name": "python"
    }
  },
  "cells": [
    {
      "cell_type": "markdown",
      "metadata": {
        "id": "view-in-github",
        "colab_type": "text"
      },
      "source": [
        "<a href=\"https://colab.research.google.com/github/samanthastaheli/CSE450TeamProjects/blob/main/ZackNeuralNet.ipynb\" target=\"_parent\"><img src=\"https://colab.research.google.com/assets/colab-badge.svg\" alt=\"Open In Colab\"/></a>"
      ]
    },
    {
      "cell_type": "code",
      "execution_count": 55,
      "metadata": {
        "id": "GlO7y55KQncU"
      },
      "outputs": [],
      "source": [
        "import pandas as pd\n",
        "import numpy as np\n",
        "import tensorflow as tf\n",
        "from tensorflow import keras\n",
        "from tensorflow.keras import layers\n",
        "import seaborn as sns\n",
        "import datetime"
      ]
    },
    {
      "cell_type": "code",
      "source": [
        "bikes = pd.read_csv('https://raw.githubusercontent.com/byui-cse/cse450-course/master/data/bikes.csv')\n",
        "\n",
        "new_bikes = bikes.assign(\n",
        "    date = lambda x: x.dteday.str.split('/'),\n",
        "    month = lambda x: x.date.str[0].astype(int),\n",
        "    day = lambda x: x.date.str[1].astype(int),\n",
        "    year = lambda x: x.date.str[2].astype(int)+2000,\n",
        "    total = lambda x: x.casual + x.registered,\n",
        "    # week_day = lambda x: datetime.date(x.year, x.month, x.day).weekday()\n",
        ")\n",
        "new_bikes[\"week_day\"] = new_bikes.apply(lambda x: datetime.date(x.year, x.month, x.day).weekday(), axis=1)\n",
        "new_bikes = pd.get_dummies(new_bikes, columns=[\"week_day\"])\n",
        "del new_bikes['date']\n",
        "del new_bikes['dteday']"
      ],
      "metadata": {
        "id": "DZbaKxIxs7ad"
      },
      "execution_count": 56,
      "outputs": []
    },
    {
      "cell_type": "code",
      "source": [
        "new_bikes.columns"
      ],
      "metadata": {
        "colab": {
          "base_uri": "https://localhost:8080/"
        },
        "id": "Dip_5AeUtJIO",
        "outputId": "06e66de2-884c-42fb-e38d-45efaa18ad91"
      },
      "execution_count": 57,
      "outputs": [
        {
          "output_type": "execute_result",
          "data": {
            "text/plain": [
              "Index(['season', 'hr', 'holiday', 'workingday', 'weathersit', 'hum',\n",
              "       'windspeed', 'temp_c', 'feels_like_c', 'casual', 'registered', 'month',\n",
              "       'day', 'year', 'total', 'week_day_0', 'week_day_1', 'week_day_2',\n",
              "       'week_day_3', 'week_day_4', 'week_day_5', 'week_day_6'],\n",
              "      dtype='object')"
            ]
          },
          "metadata": {},
          "execution_count": 57
        }
      ]
    },
    {
      "cell_type": "code",
      "source": [
        "# Split the data\n",
        "from sklearn.model_selection import train_test_split\n",
        "from sklearn import preprocessing\n",
        "\n",
        "X = new_bikes.drop(['casual','registered','total'], axis = 1)\n",
        "y = new_bikes['total'] \n",
        "\n",
        "X1, X_test, y1, y_test = train_test_split(X, y, test_size = .2)\n",
        "X_train, X_val, y_train, y_val = train_test_split(X1, y1, test_size = .3)\n",
        "\n",
        "# Scale the data\n",
        "minmax_scaler = preprocessing.MinMaxScaler()\n",
        "X_train = minmax_scaler.fit_transform(X_train) # fit the scale to the training data\n",
        "X_test = minmax_scaler.transform(X_test) # use the same scale on the testing data\n",
        "X_val = minmax_scaler.transform(X_val) # use the same scale on the testing data"
      ],
      "metadata": {
        "id": "L_ruRfsFRY1F"
      },
      "execution_count": 58,
      "outputs": []
    },
    {
      "cell_type": "code",
      "source": [
        "# This shows (number of samples, number of features)\n",
        "# X_val.shape\n",
        "X_test.shape"
      ],
      "metadata": {
        "colab": {
          "base_uri": "https://localhost:8080/"
        },
        "id": "U7YsMzweaAMx",
        "outputId": "488e6963-1507-48ac-a326-c726ff5fd25a"
      },
      "execution_count": 59,
      "outputs": [
        {
          "output_type": "execute_result",
          "data": {
            "text/plain": [
              "(3328, 19)"
            ]
          },
          "metadata": {},
          "execution_count": 59
        }
      ]
    },
    {
      "cell_type": "markdown",
      "source": [
        "# Create the model structure"
      ],
      "metadata": {
        "id": "aCzdZiADZux8"
      }
    },
    {
      "cell_type": "code",
      "source": [
        "from keras.models import Sequential\n",
        "from keras.layers import Dense\n",
        "from tensorflow.keras.callbacks import EarlyStopping\n",
        "\n",
        "model = Sequential() \n",
        "model.add(Dense(30, input_dim=19, activation='relu')) \n",
        "model.add(Dense(50, activation='relu')) \n",
        "model.add(Dense(50, activation='relu')) \n",
        "model.add(Dense(50, activation='relu')) \n",
        "model.add(Dense(50, activation='relu')) \n",
        "model.add(Dense(50, activation='relu')) \n",
        "model.add(Dense(50, activation='relu')) \n",
        "model.add(Dense(50, activation='relu')) \n",
        "model.add(Dense(50, activation='relu')) \n",
        "model.add(Dense(50, activation='relu')) \n",
        "model.add(Dense(50, activation='relu')) \n",
        "model.add(Dense(20, activation = 'relu')) \n",
        "model.add(Dense(1, activation='linear')) \n",
        "\n",
        "model.compile(loss='MSE', optimizer= 'Adam', metrics=['mean_squared_error'])"
      ],
      "metadata": {
        "id": "7yfwlngaZl2S"
      },
      "execution_count": 60,
      "outputs": []
    },
    {
      "cell_type": "code",
      "source": [
        "es = EarlyStopping(monitor=\"val_loss\", mode=\"min\", verbose=1, patience=20)"
      ],
      "metadata": {
        "id": "i8NWhR7U-275"
      },
      "execution_count": 61,
      "outputs": []
    },
    {
      "cell_type": "code",
      "source": [
        "model.summary()"
      ],
      "metadata": {
        "colab": {
          "base_uri": "https://localhost:8080/"
        },
        "id": "LkyH4U0Fq6i1",
        "outputId": "4c456c66-93ba-49e1-aca2-6405c41c997a"
      },
      "execution_count": 62,
      "outputs": [
        {
          "output_type": "stream",
          "name": "stdout",
          "text": [
            "Model: \"sequential_7\"\n",
            "_________________________________________________________________\n",
            " Layer (type)                Output Shape              Param #   \n",
            "=================================================================\n",
            " dense_53 (Dense)            (None, 30)                600       \n",
            "                                                                 \n",
            " dense_54 (Dense)            (None, 50)                1550      \n",
            "                                                                 \n",
            " dense_55 (Dense)            (None, 50)                2550      \n",
            "                                                                 \n",
            " dense_56 (Dense)            (None, 50)                2550      \n",
            "                                                                 \n",
            " dense_57 (Dense)            (None, 50)                2550      \n",
            "                                                                 \n",
            " dense_58 (Dense)            (None, 50)                2550      \n",
            "                                                                 \n",
            " dense_59 (Dense)            (None, 50)                2550      \n",
            "                                                                 \n",
            " dense_60 (Dense)            (None, 50)                2550      \n",
            "                                                                 \n",
            " dense_61 (Dense)            (None, 50)                2550      \n",
            "                                                                 \n",
            " dense_62 (Dense)            (None, 50)                2550      \n",
            "                                                                 \n",
            " dense_63 (Dense)            (None, 50)                2550      \n",
            "                                                                 \n",
            " dense_64 (Dense)            (None, 20)                1020      \n",
            "                                                                 \n",
            " dense_65 (Dense)            (None, 1)                 21        \n",
            "                                                                 \n",
            "=================================================================\n",
            "Total params: 26,141\n",
            "Trainable params: 26,141\n",
            "Non-trainable params: 0\n",
            "_________________________________________________________________\n"
          ]
        }
      ]
    },
    {
      "cell_type": "code",
      "source": [
        "# Train the model\n",
        "history = model.fit(X_train, y_train, validation_data = (X_test, y_test), epochs = 300, verbose = 20)"
      ],
      "metadata": {
        "id": "fnopkd5tiR6P",
        "colab": {
          "base_uri": "https://localhost:8080/"
        },
        "outputId": "666d2211-fa63-4323-d6ea-aa81d93804f2"
      },
      "execution_count": 63,
      "outputs": [
        {
          "output_type": "stream",
          "name": "stdout",
          "text": [
            "Epoch 1/300\n",
            "Epoch 2/300\n",
            "Epoch 3/300\n",
            "Epoch 4/300\n",
            "Epoch 5/300\n",
            "Epoch 6/300\n",
            "Epoch 7/300\n",
            "Epoch 8/300\n",
            "Epoch 9/300\n",
            "Epoch 10/300\n",
            "Epoch 11/300\n",
            "Epoch 12/300\n",
            "Epoch 13/300\n",
            "Epoch 14/300\n",
            "Epoch 15/300\n",
            "Epoch 16/300\n",
            "Epoch 17/300\n",
            "Epoch 18/300\n",
            "Epoch 19/300\n",
            "Epoch 20/300\n",
            "Epoch 21/300\n",
            "Epoch 22/300\n",
            "Epoch 23/300\n",
            "Epoch 24/300\n",
            "Epoch 25/300\n",
            "Epoch 26/300\n",
            "Epoch 27/300\n",
            "Epoch 28/300\n",
            "Epoch 29/300\n",
            "Epoch 30/300\n",
            "Epoch 31/300\n",
            "Epoch 32/300\n",
            "Epoch 33/300\n",
            "Epoch 34/300\n",
            "Epoch 35/300\n",
            "Epoch 36/300\n",
            "Epoch 37/300\n",
            "Epoch 38/300\n",
            "Epoch 39/300\n",
            "Epoch 40/300\n",
            "Epoch 41/300\n",
            "Epoch 42/300\n",
            "Epoch 43/300\n",
            "Epoch 44/300\n",
            "Epoch 45/300\n",
            "Epoch 46/300\n",
            "Epoch 47/300\n",
            "Epoch 48/300\n",
            "Epoch 49/300\n",
            "Epoch 50/300\n",
            "Epoch 51/300\n",
            "Epoch 52/300\n",
            "Epoch 53/300\n",
            "Epoch 54/300\n",
            "Epoch 55/300\n",
            "Epoch 56/300\n",
            "Epoch 57/300\n",
            "Epoch 58/300\n",
            "Epoch 59/300\n",
            "Epoch 60/300\n",
            "Epoch 61/300\n",
            "Epoch 62/300\n",
            "Epoch 63/300\n",
            "Epoch 64/300\n",
            "Epoch 65/300\n",
            "Epoch 66/300\n",
            "Epoch 67/300\n",
            "Epoch 68/300\n",
            "Epoch 69/300\n",
            "Epoch 70/300\n",
            "Epoch 71/300\n",
            "Epoch 72/300\n",
            "Epoch 73/300\n",
            "Epoch 74/300\n",
            "Epoch 75/300\n",
            "Epoch 76/300\n",
            "Epoch 77/300\n",
            "Epoch 78/300\n",
            "Epoch 79/300\n",
            "Epoch 80/300\n",
            "Epoch 81/300\n",
            "Epoch 82/300\n",
            "Epoch 83/300\n",
            "Epoch 84/300\n",
            "Epoch 85/300\n",
            "Epoch 86/300\n",
            "Epoch 87/300\n",
            "Epoch 88/300\n",
            "Epoch 89/300\n",
            "Epoch 90/300\n",
            "Epoch 91/300\n",
            "Epoch 92/300\n",
            "Epoch 93/300\n",
            "Epoch 94/300\n",
            "Epoch 95/300\n",
            "Epoch 96/300\n",
            "Epoch 97/300\n",
            "Epoch 98/300\n",
            "Epoch 99/300\n",
            "Epoch 100/300\n",
            "Epoch 101/300\n",
            "Epoch 102/300\n",
            "Epoch 103/300\n",
            "Epoch 104/300\n",
            "Epoch 105/300\n",
            "Epoch 106/300\n",
            "Epoch 107/300\n",
            "Epoch 108/300\n",
            "Epoch 109/300\n",
            "Epoch 110/300\n",
            "Epoch 111/300\n",
            "Epoch 112/300\n",
            "Epoch 113/300\n",
            "Epoch 114/300\n",
            "Epoch 115/300\n",
            "Epoch 116/300\n",
            "Epoch 117/300\n",
            "Epoch 118/300\n",
            "Epoch 119/300\n",
            "Epoch 120/300\n",
            "Epoch 121/300\n",
            "Epoch 122/300\n",
            "Epoch 123/300\n",
            "Epoch 124/300\n",
            "Epoch 125/300\n",
            "Epoch 126/300\n",
            "Epoch 127/300\n",
            "Epoch 128/300\n",
            "Epoch 129/300\n",
            "Epoch 130/300\n",
            "Epoch 131/300\n",
            "Epoch 132/300\n",
            "Epoch 133/300\n",
            "Epoch 134/300\n",
            "Epoch 135/300\n",
            "Epoch 136/300\n",
            "Epoch 137/300\n",
            "Epoch 138/300\n",
            "Epoch 139/300\n",
            "Epoch 140/300\n",
            "Epoch 141/300\n",
            "Epoch 142/300\n",
            "Epoch 143/300\n",
            "Epoch 144/300\n",
            "Epoch 145/300\n",
            "Epoch 146/300\n",
            "Epoch 147/300\n",
            "Epoch 148/300\n",
            "Epoch 149/300\n",
            "Epoch 150/300\n",
            "Epoch 151/300\n",
            "Epoch 152/300\n",
            "Epoch 153/300\n",
            "Epoch 154/300\n",
            "Epoch 155/300\n",
            "Epoch 156/300\n",
            "Epoch 157/300\n",
            "Epoch 158/300\n",
            "Epoch 159/300\n",
            "Epoch 160/300\n",
            "Epoch 161/300\n",
            "Epoch 162/300\n",
            "Epoch 163/300\n",
            "Epoch 164/300\n",
            "Epoch 165/300\n",
            "Epoch 166/300\n",
            "Epoch 167/300\n",
            "Epoch 168/300\n",
            "Epoch 169/300\n",
            "Epoch 170/300\n",
            "Epoch 171/300\n",
            "Epoch 172/300\n",
            "Epoch 173/300\n",
            "Epoch 174/300\n",
            "Epoch 175/300\n",
            "Epoch 176/300\n",
            "Epoch 177/300\n",
            "Epoch 178/300\n",
            "Epoch 179/300\n",
            "Epoch 180/300\n",
            "Epoch 181/300\n",
            "Epoch 182/300\n",
            "Epoch 183/300\n",
            "Epoch 184/300\n",
            "Epoch 185/300\n",
            "Epoch 186/300\n",
            "Epoch 187/300\n",
            "Epoch 188/300\n",
            "Epoch 189/300\n",
            "Epoch 190/300\n",
            "Epoch 191/300\n",
            "Epoch 192/300\n",
            "Epoch 193/300\n",
            "Epoch 194/300\n",
            "Epoch 195/300\n",
            "Epoch 196/300\n",
            "Epoch 197/300\n",
            "Epoch 198/300\n",
            "Epoch 199/300\n",
            "Epoch 200/300\n",
            "Epoch 201/300\n",
            "Epoch 202/300\n",
            "Epoch 203/300\n",
            "Epoch 204/300\n",
            "Epoch 205/300\n",
            "Epoch 206/300\n",
            "Epoch 207/300\n",
            "Epoch 208/300\n",
            "Epoch 209/300\n",
            "Epoch 210/300\n",
            "Epoch 211/300\n",
            "Epoch 212/300\n",
            "Epoch 213/300\n",
            "Epoch 214/300\n",
            "Epoch 215/300\n",
            "Epoch 216/300\n",
            "Epoch 217/300\n",
            "Epoch 218/300\n",
            "Epoch 219/300\n",
            "Epoch 220/300\n",
            "Epoch 221/300\n",
            "Epoch 222/300\n",
            "Epoch 223/300\n",
            "Epoch 224/300\n",
            "Epoch 225/300\n",
            "Epoch 226/300\n",
            "Epoch 227/300\n",
            "Epoch 228/300\n",
            "Epoch 229/300\n",
            "Epoch 230/300\n",
            "Epoch 231/300\n",
            "Epoch 232/300\n",
            "Epoch 233/300\n",
            "Epoch 234/300\n",
            "Epoch 235/300\n",
            "Epoch 236/300\n",
            "Epoch 237/300\n",
            "Epoch 238/300\n",
            "Epoch 239/300\n",
            "Epoch 240/300\n",
            "Epoch 241/300\n",
            "Epoch 242/300\n",
            "Epoch 243/300\n",
            "Epoch 244/300\n",
            "Epoch 245/300\n",
            "Epoch 246/300\n",
            "Epoch 247/300\n",
            "Epoch 248/300\n",
            "Epoch 249/300\n",
            "Epoch 250/300\n",
            "Epoch 251/300\n",
            "Epoch 252/300\n",
            "Epoch 253/300\n",
            "Epoch 254/300\n",
            "Epoch 255/300\n",
            "Epoch 256/300\n",
            "Epoch 257/300\n",
            "Epoch 258/300\n",
            "Epoch 259/300\n",
            "Epoch 260/300\n",
            "Epoch 261/300\n",
            "Epoch 262/300\n",
            "Epoch 263/300\n",
            "Epoch 264/300\n",
            "Epoch 265/300\n",
            "Epoch 266/300\n",
            "Epoch 267/300\n",
            "Epoch 268/300\n",
            "Epoch 269/300\n",
            "Epoch 270/300\n",
            "Epoch 271/300\n",
            "Epoch 272/300\n",
            "Epoch 273/300\n",
            "Epoch 274/300\n",
            "Epoch 275/300\n",
            "Epoch 276/300\n",
            "Epoch 277/300\n",
            "Epoch 278/300\n",
            "Epoch 279/300\n",
            "Epoch 280/300\n",
            "Epoch 281/300\n",
            "Epoch 282/300\n",
            "Epoch 283/300\n",
            "Epoch 284/300\n",
            "Epoch 285/300\n",
            "Epoch 286/300\n",
            "Epoch 287/300\n",
            "Epoch 288/300\n",
            "Epoch 289/300\n",
            "Epoch 290/300\n",
            "Epoch 291/300\n",
            "Epoch 292/300\n",
            "Epoch 293/300\n",
            "Epoch 294/300\n",
            "Epoch 295/300\n",
            "Epoch 296/300\n",
            "Epoch 297/300\n",
            "Epoch 298/300\n",
            "Epoch 299/300\n",
            "Epoch 300/300\n"
          ]
        }
      ]
    },
    {
      "cell_type": "code",
      "source": [
        "# Evaluate the model on the training data\n",
        "_, train_mse = model.evaluate(X_train, y_train, verbose = 1)\n",
        "\n",
        "# Evaluate the model on the testing data\n",
        "_, test_mse = model.evaluate(X_test, y_test, verbose = 1)\n",
        "\n",
        "# Evaluate the model on the validation data\n",
        "_, test_mse = model.evaluate(X_val, y_val, verbose = 1)"
      ],
      "metadata": {
        "colab": {
          "base_uri": "https://localhost:8080/"
        },
        "id": "bHkkIacpbBv_",
        "outputId": "a16528ab-673f-4df1-e867-238db071cc67"
      },
      "execution_count": 64,
      "outputs": [
        {
          "output_type": "stream",
          "name": "stdout",
          "text": [
            "292/292 [==============================] - 1s 2ms/step - loss: 843.5834 - mean_squared_error: 843.5834\n",
            "104/104 [==============================] - 0s 2ms/step - loss: 2054.3037 - mean_squared_error: 2054.3037\n",
            "125/125 [==============================] - 0s 2ms/step - loss: 1981.1487 - mean_squared_error: 1981.1487\n"
          ]
        }
      ]
    },
    {
      "cell_type": "code",
      "source": [
        "# Get predictions for the validation data\n",
        "v_predictions = model.predict(X_val)\n",
        "\n",
        "# Get the r^2\n",
        "from sklearn.metrics import r2_score\n",
        "r2 = r2_score(y_val, v_predictions)\n",
        "print(r2)"
      ],
      "metadata": {
        "colab": {
          "base_uri": "https://localhost:8080/"
        },
        "id": "sH8SST9vbqhl",
        "outputId": "78921834-6f98-4bab-8aeb-d2576307cb48"
      },
      "execution_count": 71,
      "outputs": [
        {
          "output_type": "stream",
          "name": "stdout",
          "text": [
            "0.9397694269322981\n"
          ]
        }
      ]
    },
    {
      "cell_type": "code",
      "source": [
        "# Get predictions for the testing data\n",
        "t_predictions = model.predict(X_test)\n",
        "\n",
        "# Get the r^2\n",
        "from sklearn.metrics import r2_score\n",
        "r2 = r2_score(y_test, t_predictions)\n",
        "print(r2)"
      ],
      "metadata": {
        "colab": {
          "base_uri": "https://localhost:8080/"
        },
        "outputId": "c2bdff3b-5834-4a60-a2bf-7a434296c003",
        "id": "OSmYDwyfIPnM"
      },
      "execution_count": 72,
      "outputs": [
        {
          "output_type": "stream",
          "name": "stdout",
          "text": [
            "0.9383626536821865\n"
          ]
        }
      ]
    },
    {
      "cell_type": "code",
      "source": [
        "# Plot loss during training (we can do this because we saved a \"history\" during training)\n",
        "from matplotlib import pyplot\n",
        "pyplot.subplot(211)\n",
        "pyplot.title('Loss')\n",
        "pyplot.plot(history.history['loss'], label='train')\n",
        "pyplot.plot(history.history['val_loss'], label='test')\n",
        "pyplot.legend()"
      ],
      "metadata": {
        "colab": {
          "base_uri": "https://localhost:8080/",
          "height": 180
        },
        "id": "sMBuqN1bbvUe",
        "outputId": "5c37f516-2040-462d-858c-10c387e3dd46"
      },
      "execution_count": 67,
      "outputs": [
        {
          "output_type": "execute_result",
          "data": {
            "text/plain": [
              "<matplotlib.legend.Legend at 0x7fbf1e02e710>"
            ]
          },
          "metadata": {},
          "execution_count": 67
        },
        {
          "output_type": "display_data",
          "data": {
            "text/plain": [
              "<Figure size 432x288 with 1 Axes>"
            ],
            "image/png": "[encoded data removed]"
          },
          "metadata": {
            "needs_background": "light"
          }
        }
      ]
    },
    {
      "cell_type": "code",
      "source": [
        "from itertools import chain\n",
        "import altair as alt\n",
        "\n",
        "# predictions = []\n",
        "\n",
        "# for x in v_predictions:\n",
        "#   predictions.append(x[0])\n",
        "# # alt.Chart()\n",
        "\n",
        "df = pd.DataFrame(data=t_predictions, columns=['predictions'])\n",
        "d2 = y_test.to_frame().reset_index()\n",
        "d2.drop(columns=['index'])\n",
        "df = pd.concat([df,d2],axis=1)\n",
        "\n",
        "df = df.assign(\n",
        "    diff = lambda x: abs(x.predictions - x.total)\n",
        ")\n",
        "\n",
        "df"
      ],
      "metadata": {
        "colab": {
          "base_uri": "https://localhost:8080/",
          "height": 424
        },
        "id": "kieSBirETvq0",
        "outputId": "78d9e0ac-7e4f-46d8-c625-10adacb1e096"
      },
      "execution_count": 98,
      "outputs": [
        {
          "output_type": "execute_result",
          "data": {
            "text/plain": [
              "      predictions  index  total        diff\n",
              "0       97.697929   7472    101    3.302071\n",
              "1      178.507416   2245     73  105.507416\n",
              "2       32.801128  15924     40    7.198872\n",
              "3       67.265190   7591     84   16.734810\n",
              "4       80.461411  10707    101   20.538589\n",
              "...           ...    ...    ...         ...\n",
              "3323   128.508759    318    139   10.491241\n",
              "3324    21.406717   4039     23    1.593283\n",
              "3325   205.298645   6702    234   28.701355\n",
              "3326    75.319901  11637     75    0.319901\n",
              "3327    91.062675   6106    108   16.937325\n",
              "\n",
              "[3328 rows x 4 columns]"
            ],
            "text/html": [
              "\n",
              "  <div id=\"df-13946ddb-703e-4a37-8398-7a1927518211\">\n",
              "    <div class=\"colab-df-container\">\n",
              "      <div>\n",
              "<style scoped>\n",
              "    .dataframe tbody tr th:only-of-type {\n",
              "        vertical-align: middle;\n",
              "    }\n",
              "\n",
              "    .dataframe tbody tr th {\n",
              "        vertical-align: top;\n",
              "    }\n",
              "\n",
              "    .dataframe thead th {\n",
              "        text-align: right;\n",
              "    }\n",
              "</style>\n",
              "<table border=\"1\" class=\"dataframe\">\n",
              "  <thead>\n",
              "    <tr style=\"text-align: right;\">\n",
              "      <th></th>\n",
              "      <th>predictions</th>\n",
              "      <th>index</th>\n",
              "      <th>total</th>\n",
              "      <th>diff</th>\n",
              "    </tr>\n",
              "  </thead>\n",
              "  <tbody>\n",
              "    <tr>\n",
              "      <th>0</th>\n",
              "      <td>97.697929</td>\n",
              "      <td>7472</td>\n",
              "      <td>101</td>\n",
              "      <td>3.302071</td>\n",
              "    </tr>\n",
              "    <tr>\n",
              "      <th>1</th>\n",
              "      <td>178.507416</td>\n",
              "      <td>2245</td>\n",
              "      <td>73</td>\n",
              "      <td>105.507416</td>\n",
              "    </tr>\n",
              "    <tr>\n",
              "      <th>2</th>\n",
              "      <td>32.801128</td>\n",
              "      <td>15924</td>\n",
              "      <td>40</td>\n",
              "      <td>7.198872</td>\n",
              "    </tr>\n",
              "    <tr>\n",
              "      <th>3</th>\n",
              "      <td>67.265190</td>\n",
              "      <td>7591</td>\n",
              "      <td>84</td>\n",
              "      <td>16.734810</td>\n",
              "    </tr>\n",
              "    <tr>\n",
              "      <th>4</th>\n",
              "      <td>80.461411</td>\n",
              "      <td>10707</td>\n",
              "      <td>101</td>\n",
              "      <td>20.538589</td>\n",
              "    </tr>\n",
              "    <tr>\n",
              "      <th>...</th>\n",
              "      <td>...</td>\n",
              "      <td>...</td>\n",
              "      <td>...</td>\n",
              "      <td>...</td>\n",
              "    </tr>\n",
              "    <tr>\n",
              "      <th>3323</th>\n",
              "      <td>128.508759</td>\n",
              "      <td>318</td>\n",
              "      <td>139</td>\n",
              "      <td>10.491241</td>\n",
              "    </tr>\n",
              "    <tr>\n",
              "      <th>3324</th>\n",
              "      <td>21.406717</td>\n",
              "      <td>4039</td>\n",
              "      <td>23</td>\n",
              "      <td>1.593283</td>\n",
              "    </tr>\n",
              "    <tr>\n",
              "      <th>3325</th>\n",
              "      <td>205.298645</td>\n",
              "      <td>6702</td>\n",
              "      <td>234</td>\n",
              "      <td>28.701355</td>\n",
              "    </tr>\n",
              "    <tr>\n",
              "      <th>3326</th>\n",
              "      <td>75.319901</td>\n",
              "      <td>11637</td>\n",
              "      <td>75</td>\n",
              "      <td>0.319901</td>\n",
              "    </tr>\n",
              "    <tr>\n",
              "      <th>3327</th>\n",
              "      <td>91.062675</td>\n",
              "      <td>6106</td>\n",
              "      <td>108</td>\n",
              "      <td>16.937325</td>\n",
              "    </tr>\n",
              "  </tbody>\n",
              "</table>\n",
              "<p>3328 rows × 4 columns</p>\n",
              "</div>\n",
              "      <button class=\"colab-df-convert\" onclick=\"convertToInteractive('df-13946ddb-703e-4a37-8398-7a1927518211')\"\n",
              "              title=\"Convert this dataframe to an interactive table.\"\n",
              "              style=\"display:none;\">\n",
              "        \n",
              "  <svg xmlns=\"http://www.w3.org/2000/svg\" height=\"24px\"viewBox=\"0 0 24 24\"\n",
              "       width=\"24px\">\n",
              "    <path d=\"M0 0h24v24H0V0z\" fill=\"none\"/>\n",
              "    <path d=\"M18.56 5.44l.94 2.06.94-2.06 2.06-.94-2.06-.94-.94-2.06-.94 2.06-2.06.94zm-11 1L8.5 8.5l.94-2.06 2.06-.94-2.06-.94L8.5 2.5l-.94 2.06-2.06.94zm10 10l.94 2.06.94-2.06 2.06-.94-2.06-.94-.94-2.06-.94 2.06-2.06.94z\"/><path d=\"M17.41 7.96l-1.37-1.37c-.4-.4-.92-.59-1.43-.59-.52 0-1.04.2-1.43.59L10.3 9.45l-7.72 7.72c-.78.78-.78 2.05 0 2.83L4 21.41c.39.39.9.59 1.41.59.51 0 1.02-.2 1.41-.59l7.78-7.78 2.81-2.81c.8-.78.8-2.07 0-2.86zM5.41 20L4 18.59l7.72-7.72 1.47 1.35L5.41 20z\"/>\n",
              "  </svg>\n",
              "      </button>\n",
              "      \n",
              "  <style>\n",
              "    .colab-df-container {\n",
              "      display:flex;\n",
              "      flex-wrap:wrap;\n",
              "      gap: 12px;\n",
              "    }\n",
              "\n",
              "    .colab-df-convert {\n",
              "      background-color: #E8F0FE;\n",
              "      border: none;\n",
              "      border-radius: 50%;\n",
              "      cursor: pointer;\n",
              "      display: none;\n",
              "      fill: #1967D2;\n",
              "      height: 32px;\n",
              "      padding: 0 0 0 0;\n",
              "      width: 32px;\n",
              "    }\n",
              "\n",
              "    .colab-df-convert:hover {\n",
              "      background-color: #E2EBFA;\n",
              "      box-shadow: 0px 1px 2px rgba(60, 64, 67, 0.3), 0px 1px 3px 1px rgba(60, 64, 67, 0.15);\n",
              "      fill: #174EA6;\n",
              "    }\n",
              "\n",
              "    [theme=dark] .colab-df-convert {\n",
              "      background-color: #3B4455;\n",
              "      fill: #D2E3FC;\n",
              "    }\n",
              "\n",
              "    [theme=dark] .colab-df-convert:hover {\n",
              "      background-color: #434B5C;\n",
              "      box-shadow: 0px 1px 3px 1px rgba(0, 0, 0, 0.15);\n",
              "      filter: drop-shadow(0px 1px 2px rgba(0, 0, 0, 0.3));\n",
              "      fill: #FFFFFF;\n",
              "    }\n",
              "  </style>\n",
              "\n",
              "      <script>\n",
              "        const buttonEl =\n",
              "          document.querySelector('#df-13946ddb-703e-4a37-8398-7a1927518211 button.colab-df-convert');\n",
              "        buttonEl.style.display =\n",
              "          google.colab.kernel.accessAllowed ? 'block' : 'none';\n",
              "\n",
              "        async function convertToInteractive(key) {\n",
              "          const element = document.querySelector('#df-13946ddb-703e-4a37-8398-7a1927518211');\n",
              "          const dataTable =\n",
              "            await google.colab.kernel.invokeFunction('convertToInteractive',\n",
              "                                                     [key], {});\n",
              "          if (!dataTable) return;\n",
              "\n",
              "          const docLinkHtml = 'Like what you see? Visit the ' +\n",
              "            '<a target=\"_blank\" href=https://colab.research.google.com/notebooks/data_table.ipynb>data table notebook</a>'\n",
              "            + ' to learn more about interactive tables.';\n",
              "          element.innerHTML = '';\n",
              "          dataTable['output_type'] = 'display_data';\n",
              "          await google.colab.output.renderOutput(dataTable, element);\n",
              "          const docLink = document.createElement('div');\n",
              "          docLink.innerHTML = docLinkHtml;\n",
              "          element.appendChild(docLink);\n",
              "        }\n",
              "      </script>\n",
              "    </div>\n",
              "  </div>\n",
              "  "
            ]
          },
          "metadata": {},
          "execution_count": 98
        }
      ]
    },
    {
      "cell_type": "code",
      "source": [
        "sns.scatterplot(data=df,x='predictions',y='total', hue='diff')"
      ],
      "metadata": {
        "colab": {
          "base_uri": "https://localhost:8080/",
          "height": 296
        },
        "id": "Jd2Nl8CUZtr1",
        "outputId": "d227870c-45e0-4d98-b955-965d5775c812"
      },
      "execution_count": 99,
      "outputs": [
        {
          "output_type": "execute_result",
          "data": {
            "text/plain": [
              "<matplotlib.axes._subplots.AxesSubplot at 0x7fbf15b35f10>"
            ]
          },
          "metadata": {},
          "execution_count": 99
        },
        {
          "output_type": "display_data",
          "data": {
            "text/plain": [
              "<Figure size 432x288 with 1 Axes>"
            ],
            "image/png": "[encoded data removed]"
          },
          "metadata": {
            "needs_background": "light"
          }
        }
      ]
    },
    {
      "cell_type": "markdown",
      "source": [
        "# Create a function and a method to do optimization and hyperparameter tuning\n"
      ],
      "metadata": {
        "id": "2nP_tISsj8KD"
      }
    },
    {
      "cell_type": "code",
      "source": [
        "import numpy\n",
        "from sklearn.model_selection import GridSearchCV\n",
        "from keras.wrappers.scikit_learn import KerasRegressor"
      ],
      "metadata": {
        "id": "mLLl-8QskGmT"
      },
      "execution_count": 68,
      "outputs": []
    },
    {
      "cell_type": "code",
      "source": [
        "# # We can make several different models, so let's make a function to make the model\n",
        "\n",
        "# # Function to create model, required for KerasClassifier / KerasRegressor\n",
        "# def create_model(optimizer='adam'):\n",
        "# \tmodel = Sequential()\n",
        "# \tmodel.add(Dense(64, input_dim=12, activation='relu'))\n",
        "# \tmodel.add(Dense(1, activation='relu'))\n",
        "# \t# Compile model\n",
        "# \tmodel.compile(loss='MSE', optimizer=optimizer, metrics=['mse'])\n",
        "# \treturn model\n",
        "\n",
        "# # Let's use the KerasRegressor tool to make the model so that we can pass it to a hyperparameter grid search\n",
        "# model = KerasRegressor(build_fn=create_model, verbose=0)\n",
        "\n",
        "# # Define the grid search parameters\n",
        "# batch_size = [10, 30]\n",
        "# epochs = [100, 20]\n",
        "# param_grid = dict(batch_size=batch_size, epochs=epochs)\n",
        "\n",
        "# # Run the grid search\n",
        "# grid = GridSearchCV(estimator=model, param_grid=param_grid, n_jobs=-1, cv=3)\n",
        "# grid_result = grid.fit(X_train, y_train)"
      ],
      "metadata": {
        "id": "OZKq1A6CkVZa"
      },
      "execution_count": 69,
      "outputs": []
    },
    {
      "cell_type": "code",
      "source": [
        "# # Summarize results\n",
        "# print(\"Best: %f using %s\" % (grid_result.best_score_, grid_result.best_params_))\n",
        "# means = grid_result.cv_results_['mean_test_score']\n",
        "# stds = grid_result.cv_results_['std_test_score']\n",
        "# params = grid_result.cv_results_['params']\n",
        "# for mean, stdev, param in zip(means, stds, params):\n",
        "#     print(\"%f (%f) with: %r\" % (mean, stdev, param))"
      ],
      "metadata": {
        "id": "sEGp3Ag2l5Au"
      },
      "execution_count": 70,
      "outputs": []
    },
    {
      "cell_type": "markdown",
      "source": [
        "# Other options than GridSearch\n",
        "\n",
        "Check out this website for better/other options, besides the Grid or Random search:\n",
        "https://towardsdatascience.com/hyperparameter-tuning-with-keras-tuner-283474fbfbe\n",
        "\n",
        "https://www.analyticsvidhya.com/blog/2021/08/hyperparameter-tuning-of-neural-networks-using-keras-tuner/"
      ],
      "metadata": {
        "id": "Q8ROKvV8oiny"
      }
    },
    {
      "cell_type": "code",
      "source": [
        ""
      ],
      "metadata": {
        "id": "prxcTOq7w2YV"
      },
      "execution_count": 70,
      "outputs": []
    }
  ]
}