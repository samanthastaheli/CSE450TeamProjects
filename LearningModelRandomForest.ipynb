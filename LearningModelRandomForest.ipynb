{
  "nbformat": 4,
  "nbformat_minor": 0,
  "metadata": {
    "colab": {
      "name": "LearningModelRandomForest.ipynb",
      "provenance": [],
      "collapsed_sections": [],
      "authorship_tag": "ABX9TyPYb+aWl3YQZqq/0MySEDr5",
      "include_colab_link": true
    },
    "kernelspec": {
      "name": "python3",
      "display_name": "Python 3"
    },
    "language_info": {
      "name": "python"
    }
  },
  "cells": [
    {
      "cell_type": "markdown",
      "metadata": {
        "id": "view-in-github",
        "colab_type": "text"
      },
      "source": [
        "<a href=\"https://colab.research.google.com/github/samanthastaheli/cse450_module2/blob/main/LearningModelRandomForest.ipynb\" target=\"_parent\"><img src=\"https://colab.research.google.com/assets/colab-badge.svg\" alt=\"Open In Colab\"/></a>"
      ]
    },
    {
      "cell_type": "markdown",
      "source": [
        "# Machine Learning Model Document"
      ],
      "metadata": {
        "id": "AGvp6xOASIoe"
      }
    },
    {
      "cell_type": "markdown",
      "source": [
        "## Import Pandas and the Data Set"
      ],
      "metadata": {
        "id": "7pbeZKN5SMr_"
      }
    },
    {
      "cell_type": "code",
      "execution_count": 1,
      "metadata": {
        "id": "XAfMUVxeSDmI"
      },
      "outputs": [],
      "source": [
        "import pandas as pd\n",
        "\n",
        "campaign = pd.read_csv('https://raw.githubusercontent.com/byui-cse/cse450-course/master/data/bank.csv')"
      ]
    },
    {
      "cell_type": "markdown",
      "source": [
        "## One Hot Encode"
      ],
      "metadata": {
        "id": "LgT5rkd9WM9Q"
      }
    },
    {
      "cell_type": "code",
      "source": [
        "#campaign_unknown = campaign.replace('unknown', np.nan)\n",
        "#campaign_drop_unknown = campaign_drop_unknown.dropna()\n",
        "\n",
        "ml_education = campaign.education.str.replace(\"basic.4y\", '4').str.replace('basic.6y', '6').str.replace('basic.9y', '9').str.replace('high.school', '12').str.replace('professional.course', '14').str.replace('illiterate', '2').str.replace('university.degree', '16').str.replace('unknown', '0').astype('float')\n",
        "\n",
        "age_bins = [15, 25, 35, 45, 55, 65, 100]\n",
        "age_labels = [\"younger\", \"young\", \"middle\", \"middlish\", \"old\", \"older\"]\n",
        "\n",
        "str(age_labels)\n",
        "\n",
        "ml_age = pd.cut(campaign['age'], bins=age_bins, labels=age_labels).astype(str)\n",
        "\n",
        "ml_age = pd.get_dummies(ml_age)\n",
        "\n",
        "ml_answers = campaign.y.str.replace(\"no\", \"0\").str.replace(\"yes\", '1').astype('float')\n",
        "\n",
        "ml_pdays = campaign.pdays.replace(999, -1)\n",
        "\n",
        "ml_onehot = pd.get_dummies(campaign.filter(['job','month','marital', 'default', 'housing', 'loan', 'contact', 'day_of_week', 'poutcome']))"
      ],
      "metadata": {
        "colab": {
          "base_uri": "https://localhost:8080/"
        },
        "id": "RK1IRhWSWMYR",
        "outputId": "d7f2fcfc-d79d-44ea-d38b-b73d91f088f3"
      },
      "execution_count": 2,
      "outputs": [
        {
          "output_type": "stream",
          "name": "stderr",
          "text": [
            "/usr/local/lib/python3.7/dist-packages/ipykernel_launcher.py:4: FutureWarning: The default value of regex will change from True to False in a future version.\n",
            "  after removing the cwd from sys.path.\n"
          ]
        }
      ]
    },
    {
      "cell_type": "code",
      "source": [
        "final_ml = pd.concat([ml_onehot, \n",
        "                         campaign.filter(['campaign', 'previous',\n",
        "       'emp.var.rate', 'cons.price.idx',\n",
        "       'cons.conf.idx', 'euribor3m', 'nr.employed']),\n",
        "                         ml_pdays,\n",
        "                         ml_age,\n",
        "                         ml_education], axis=1)\n",
        "\n",
        "\n",
        "\n",
        "final_ml = final_ml.drop(\"job_student\", axis = 1, inplace = False)"
      ],
      "metadata": {
        "id": "D5__DVLfWQVL"
      },
      "execution_count": 3,
      "outputs": []
    },
    {
      "cell_type": "markdown",
      "source": [
        "## View Dataframe Info"
      ],
      "metadata": {
        "id": "-5tyguroSW3a"
      }
    },
    {
      "cell_type": "code",
      "source": [
        "final_ml.info()"
      ],
      "metadata": {
        "colab": {
          "base_uri": "https://localhost:8080/"
        },
        "id": "0v1-NPinSVPM",
        "outputId": "36db9bab-4981-4256-feee-0235820ac2ea"
      },
      "execution_count": 4,
      "outputs": [
        {
          "output_type": "stream",
          "name": "stdout",
          "text": [
            "<class 'pandas.core.frame.DataFrame'>\n",
            "RangeIndex: 41188 entries, 0 to 41187\n",
            "Data columns (total 59 columns):\n",
            " #   Column                Non-Null Count  Dtype  \n",
            "---  ------                --------------  -----  \n",
            " 0   job_admin.            41188 non-null  uint8  \n",
            " 1   job_blue-collar       41188 non-null  uint8  \n",
            " 2   job_entrepreneur      41188 non-null  uint8  \n",
            " 3   job_housemaid         41188 non-null  uint8  \n",
            " 4   job_management        41188 non-null  uint8  \n",
            " 5   job_retired           41188 non-null  uint8  \n",
            " 6   job_self-employed     41188 non-null  uint8  \n",
            " 7   job_services          41188 non-null  uint8  \n",
            " 8   job_technician        41188 non-null  uint8  \n",
            " 9   job_unemployed        41188 non-null  uint8  \n",
            " 10  job_unknown           41188 non-null  uint8  \n",
            " 11  month_apr             41188 non-null  uint8  \n",
            " 12  month_aug             41188 non-null  uint8  \n",
            " 13  month_dec             41188 non-null  uint8  \n",
            " 14  month_jul             41188 non-null  uint8  \n",
            " 15  month_jun             41188 non-null  uint8  \n",
            " 16  month_mar             41188 non-null  uint8  \n",
            " 17  month_may             41188 non-null  uint8  \n",
            " 18  month_nov             41188 non-null  uint8  \n",
            " 19  month_oct             41188 non-null  uint8  \n",
            " 20  month_sep             41188 non-null  uint8  \n",
            " 21  marital_divorced      41188 non-null  uint8  \n",
            " 22  marital_married       41188 non-null  uint8  \n",
            " 23  marital_single        41188 non-null  uint8  \n",
            " 24  marital_unknown       41188 non-null  uint8  \n",
            " 25  default_no            41188 non-null  uint8  \n",
            " 26  default_unknown       41188 non-null  uint8  \n",
            " 27  default_yes           41188 non-null  uint8  \n",
            " 28  housing_no            41188 non-null  uint8  \n",
            " 29  housing_unknown       41188 non-null  uint8  \n",
            " 30  housing_yes           41188 non-null  uint8  \n",
            " 31  loan_no               41188 non-null  uint8  \n",
            " 32  loan_unknown          41188 non-null  uint8  \n",
            " 33  loan_yes              41188 non-null  uint8  \n",
            " 34  contact_cellular      41188 non-null  uint8  \n",
            " 35  contact_telephone     41188 non-null  uint8  \n",
            " 36  day_of_week_fri       41188 non-null  uint8  \n",
            " 37  day_of_week_mon       41188 non-null  uint8  \n",
            " 38  day_of_week_thu       41188 non-null  uint8  \n",
            " 39  day_of_week_tue       41188 non-null  uint8  \n",
            " 40  day_of_week_wed       41188 non-null  uint8  \n",
            " 41  poutcome_failure      41188 non-null  uint8  \n",
            " 42  poutcome_nonexistent  41188 non-null  uint8  \n",
            " 43  poutcome_success      41188 non-null  uint8  \n",
            " 44  campaign              41188 non-null  int64  \n",
            " 45  previous              41188 non-null  int64  \n",
            " 46  emp.var.rate          41188 non-null  float64\n",
            " 47  cons.price.idx        41188 non-null  float64\n",
            " 48  cons.conf.idx         41188 non-null  float64\n",
            " 49  euribor3m             41188 non-null  float64\n",
            " 50  nr.employed           41188 non-null  float64\n",
            " 51  pdays                 41188 non-null  int64  \n",
            " 52  middle                41188 non-null  uint8  \n",
            " 53  middlish              41188 non-null  uint8  \n",
            " 54  old                   41188 non-null  uint8  \n",
            " 55  older                 41188 non-null  uint8  \n",
            " 56  young                 41188 non-null  uint8  \n",
            " 57  younger               41188 non-null  uint8  \n",
            " 58  education             41188 non-null  float64\n",
            "dtypes: float64(6), int64(3), uint8(50)\n",
            "memory usage: 4.8 MB\n"
          ]
        }
      ]
    },
    {
      "cell_type": "markdown",
      "source": [
        "## Import Libraries"
      ],
      "metadata": {
        "id": "Yiw1U0pzS0kJ"
      }
    },
    {
      "cell_type": "code",
      "source": [
        "# Model using poutcome, job, and marital\n",
        "from sklearn import tree\n",
        "from sklearn.ensemble import RandomForestClassifier\n",
        "from sklearn.tree import DecisionTreeClassifier\n",
        "from sklearn.preprocessing import OneHotEncoder\n",
        "from sklearn.model_selection import train_test_split\n",
        "from sklearn import metrics"
      ],
      "metadata": {
        "id": "l5U7tGqfTAx7"
      },
      "execution_count": 5,
      "outputs": []
    },
    {
      "cell_type": "markdown",
      "source": [
        "## Select Features for the Training"
      ],
      "metadata": {
        "id": "eQubW2KISiKF"
      }
    },
    {
      "cell_type": "code",
      "source": [
        "features = ['job_admin.',\n",
        " 'job_blue-collar',\n",
        " 'job_entrepreneur',\n",
        " 'job_housemaid',\n",
        " 'job_management',\n",
        " 'job_retired',\n",
        " 'job_self-employed',\n",
        " 'job_services',\n",
        " 'job_technician',\n",
        " 'job_unemployed',\n",
        " 'job_unknown',\n",
        " 'month_apr',\n",
        " 'month_aug',\n",
        " 'month_dec',\n",
        " 'month_jul',\n",
        " 'month_jun',\n",
        " 'month_mar',\n",
        " 'month_may',\n",
        " 'month_nov',\n",
        " 'month_oct',\n",
        " 'month_sep',\n",
        " 'marital_divorced',\n",
        " 'marital_married',\n",
        " 'marital_single',\n",
        " 'marital_unknown',\n",
        " 'default_no',\n",
        " 'default_unknown',\n",
        " 'default_yes',\n",
        " 'housing_no',\n",
        " 'housing_unknown',\n",
        " 'housing_yes',\n",
        " 'loan_no',\n",
        " 'loan_unknown',\n",
        " 'loan_yes',\n",
        " 'contact_cellular',\n",
        " 'contact_telephone',\n",
        " 'day_of_week_fri',\n",
        " 'day_of_week_mon',\n",
        " 'day_of_week_thu',\n",
        " 'day_of_week_tue',\n",
        " 'day_of_week_wed',\n",
        " 'poutcome_failure',\n",
        " 'poutcome_nonexistent',\n",
        " 'poutcome_success',\n",
        " 'campaign',\n",
        " 'previous',\n",
        " 'emp.var.rate',\n",
        " 'cons.price.idx',\n",
        " 'cons.conf.idx',\n",
        " 'euribor3m',\n",
        " 'nr.employed',\n",
        " 'pdays',\n",
        " 'middle',\n",
        " 'middlish',\n",
        " 'old',\n",
        " 'older',\n",
        " 'young',\n",
        " 'younger',\n",
        " 'education']"
      ],
      "metadata": {
        "id": "Mq_V0wlMShOm"
      },
      "execution_count": 6,
      "outputs": []
    },
    {
      "cell_type": "markdown",
      "source": [
        "## Drop NA and Prepare X and y"
      ],
      "metadata": {
        "id": "rYA2bWGISuSm"
      }
    },
    {
      "cell_type": "code",
      "source": [
        "final_ml = final_ml.dropna()\n",
        "X = pd.get_dummies(final_ml[features], drop_first=True)\n",
        "y = ml_answers"
      ],
      "metadata": {
        "id": "9CRFKgoiTTFa"
      },
      "execution_count": 7,
      "outputs": []
    },
    {
      "cell_type": "markdown",
      "source": [
        "## Balance the Data Set"
      ],
      "metadata": {
        "id": "dXFPTKWKTsSn"
      }
    },
    {
      "cell_type": "code",
      "source": [
        "from imblearn.over_sampling import RandomOverSampler\n",
        "ro = RandomOverSampler()\n",
        "X_new, y_new = ro.fit_resample(X, y)"
      ],
      "metadata": {
        "id": "P2yMr3SMT5UW"
      },
      "execution_count": 8,
      "outputs": []
    },
    {
      "cell_type": "markdown",
      "source": [
        "## Split into the Train and Test sets and Build the Tree\n"
      ],
      "metadata": {
        "id": "6EiFfAo0UPDG"
      }
    },
    {
      "cell_type": "code",
      "source": [
        "# Split our data into training and test data, with 30% reserved for testing\n",
        "X_train, X_test, y_train, y_test = train_test_split(X_new, y_new, test_size=0.20)\n",
        "\n",
        "# Build the decision forest\n",
        "clf = RandomForestClassifier(n_estimators = 100)"
      ],
      "metadata": {
        "id": "Ok0xBaYWUOYU"
      },
      "execution_count": 9,
      "outputs": []
    },
    {
      "cell_type": "markdown",
      "source": [
        "## Train the Model"
      ],
      "metadata": {
        "id": "jCVWxL7iUbFC"
      }
    },
    {
      "cell_type": "code",
      "source": [
        "# Train it\n",
        "clf.fit(X_train, y_train)"
      ],
      "metadata": {
        "colab": {
          "base_uri": "https://localhost:8080/"
        },
        "id": "ts1hPyqjUaVi",
        "outputId": "e8afbf61-589e-4c82-de29-323891ae89e1"
      },
      "execution_count": 10,
      "outputs": [
        {
          "output_type": "execute_result",
          "data": {
            "text/plain": [
              "RandomForestClassifier()"
            ]
          },
          "metadata": {},
          "execution_count": 10
        }
      ]
    },
    {
      "cell_type": "markdown",
      "source": [
        "## Test the Model"
      ],
      "metadata": {
        "id": "GSGNRPsLUgQx"
      }
    },
    {
      "cell_type": "code",
      "source": [
        "# Test it \n",
        "clf.score(X_test, y_test)\n",
        "\n",
        "y_predicted = clf.predict(X_test)"
      ],
      "metadata": {
        "id": "-9VVaGwUUmTV"
      },
      "execution_count": 11,
      "outputs": []
    },
    {
      "cell_type": "markdown",
      "source": [
        "## The Confusion Matrix"
      ],
      "metadata": {
        "id": "jfJmsjl-Ur6p"
      }
    },
    {
      "cell_type": "code",
      "source": [
        "from sklearn import metrics\n",
        "metrics.plot_confusion_matrix(clf, X_test, y_test)"
      ],
      "metadata": {
        "colab": {
          "base_uri": "https://localhost:8080/",
          "height": 351
        },
        "id": "UQGNm3uWUujk",
        "outputId": "9ac5e66c-17b4-499a-f39e-9376eadc9426"
      },
      "execution_count": 12,
      "outputs": [
        {
          "output_type": "stream",
          "name": "stderr",
          "text": [
            "/usr/local/lib/python3.7/dist-packages/sklearn/utils/deprecation.py:87: FutureWarning: Function plot_confusion_matrix is deprecated; Function `plot_confusion_matrix` is deprecated in 1.0 and will be removed in 1.2. Use one of the class methods: ConfusionMatrixDisplay.from_predictions or ConfusionMatrixDisplay.from_estimator.\n",
            "  warnings.warn(msg, category=FutureWarning)\n"
          ]
        },
        {
          "output_type": "execute_result",
          "data": {
            "text/plain": [
              "<sklearn.metrics._plot.confusion_matrix.ConfusionMatrixDisplay at 0x7f3c0eb99c50>"
            ]
          },
          "metadata": {},
          "execution_count": 12
        },
        {
          "output_type": "display_data",
          "data": {
            "text/plain": [
              "<Figure size 432x288 with 2 Axes>"
            ],
            "image/png": "[encoded data removed]"
          },
          "metadata": {
            "needs_background": "light"
          }
        }
      ]
    },
    {
      "cell_type": "markdown",
      "source": [
        "## View Stats"
      ],
      "metadata": {
        "id": "0PkHo2XRUxcc"
      }
    },
    {
      "cell_type": "code",
      "source": [
        "print(metrics.classification_report(y_test, y_predicted))"
      ],
      "metadata": {
        "colab": {
          "base_uri": "https://localhost:8080/"
        },
        "id": "zksTvR7FUwgg",
        "outputId": "730f3b26-9503-4e4b-eae9-2527ccf9a96d"
      },
      "execution_count": 13,
      "outputs": [
        {
          "output_type": "stream",
          "name": "stdout",
          "text": [
            "              precision    recall  f1-score   support\n",
            "\n",
            "         0.0       1.00      0.92      0.96      7306\n",
            "         1.0       0.93      1.00      0.96      7314\n",
            "\n",
            "    accuracy                           0.96     14620\n",
            "   macro avg       0.96      0.96      0.96     14620\n",
            "weighted avg       0.96      0.96      0.96     14620\n",
            "\n"
          ]
        }
      ]
    },
    {
      "cell_type": "markdown",
      "source": [
        "## View the Tree(s)"
      ],
      "metadata": {
        "id": "qiU7m1OCU6Mi"
      }
    },
    {
      "cell_type": "code",
      "source": [
        "# Test it \n",
        "feature_imp = pd.Series(clf.feature_importances_,index=X.columns).sort_values(ascending=False)\n",
        "feature_imp"
      ],
      "metadata": {
        "colab": {
          "base_uri": "https://localhost:8080/"
        },
        "id": "Kj43oYAxU1Nz",
        "outputId": "e8de9463-672c-40b3-e452-54332cf335b6"
      },
      "execution_count": 15,
      "outputs": [
        {
          "output_type": "execute_result",
          "data": {
            "text/plain": [
              "euribor3m               0.132880\n",
              "campaign                0.102590\n",
              "education               0.081985\n",
              "nr.employed             0.075452\n",
              "emp.var.rate            0.040862\n",
              "cons.conf.idx           0.032577\n",
              "cons.price.idx          0.022699\n",
              "pdays                   0.022245\n",
              "housing_yes             0.021341\n",
              "housing_no              0.021194\n",
              "job_admin.              0.020241\n",
              "marital_married         0.018785\n",
              "middle                  0.018188\n",
              "young                   0.017864\n",
              "marital_single          0.016588\n",
              "job_blue-collar         0.016339\n",
              "job_technician          0.015928\n",
              "previous                0.015820\n",
              "day_of_week_mon         0.014979\n",
              "loan_no                 0.014706\n",
              "loan_yes                0.014554\n",
              "day_of_week_fri         0.014315\n",
              "day_of_week_thu         0.014304\n",
              "day_of_week_tue         0.014275\n",
              "day_of_week_wed         0.014037\n",
              "middlish                0.013748\n",
              "marital_divorced        0.012125\n",
              "default_unknown         0.012042\n",
              "job_services            0.011908\n",
              "default_no              0.011593\n",
              "job_management          0.010857\n",
              "contact_telephone       0.010844\n",
              "month_may               0.010600\n",
              "contact_cellular        0.009762\n",
              "poutcome_success        0.009147\n",
              "old                     0.008560\n",
              "job_entrepreneur        0.007642\n",
              "job_self-employed       0.007489\n",
              "poutcome_nonexistent    0.006865\n",
              "month_oct               0.006419\n",
              "job_retired             0.006396\n",
              "younger                 0.005923\n",
              "poutcome_failure        0.005205\n",
              "job_housemaid           0.005110\n",
              "job_unemployed          0.004837\n",
              "month_mar               0.003247\n",
              "older                   0.003226\n",
              "month_apr               0.003094\n",
              "housing_unknown         0.002739\n",
              "month_jul               0.002606\n",
              "loan_unknown            0.002555\n",
              "month_aug               0.002240\n",
              "job_unknown             0.002102\n",
              "month_jun               0.001931\n",
              "month_nov               0.001692\n",
              "month_sep               0.001369\n",
              "marital_unknown         0.000869\n",
              "month_dec               0.000504\n",
              "default_yes             0.000005\n",
              "dtype: float64"
            ]
          },
          "metadata": {},
          "execution_count": 15
        }
      ]
    },
    {
      "cell_type": "code",
      "source": [
        ""
      ],
      "metadata": {
        "id": "j00YYVSQZHQt"
      },
      "execution_count": null,
      "outputs": []
    }
  ]
}