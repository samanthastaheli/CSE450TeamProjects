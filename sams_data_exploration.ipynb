{
  "cells": [
    {
      "cell_type": "markdown",
      "metadata": {
        "id": "view-in-github",
        "colab_type": "text"
      },
      "source": [
        "<a href=\"https://colab.research.google.com/github/samanthastaheli/cse450_module2/blob/main/sams_data_exploration.ipynb\" target=\"_parent\"><img src=\"https://colab.research.google.com/assets/colab-badge.svg\" alt=\"Open In Colab\"/></a>"
      ]
    },
    {
      "cell_type": "code",
      "execution_count": null,
      "metadata": {
        "id": "mA0HPVmIBT4C"
      },
      "outputs": [],
      "source": [
        "import pandas as pd\n",
        "import altair as alt"
      ]
    },
    {
      "cell_type": "code",
      "source": [
        "campaign = pd.read_csv('https://raw.githubusercontent.com/byui-cse/cse450-course/master/data/bank.csv')\n",
        "campaign.head()"
      ],
      "metadata": {
        "id": "y7ewA38FCeDW"
      },
      "execution_count": null,
      "outputs": []
    },
    {
      "cell_type": "markdown",
      "source": [
        "# Explore Data"
      ],
      "metadata": {
        "id": "QNOfMGJ1CtQ9"
      }
    },
    {
      "cell_type": "markdown",
      "source": [
        "## Jobs"
      ],
      "metadata": {
        "id": "k04emOeGC3s_"
      }
    },
    {
      "cell_type": "code",
      "source": [
        "campaign[\"job\"].value_counts()"
      ],
      "metadata": {
        "id": "h526YxgRCqE3"
      },
      "execution_count": null,
      "outputs": []
    },
    {
      "cell_type": "markdown",
      "source": [
        "## Housing"
      ],
      "metadata": {
        "id": "xTirucjyC0Wp"
      }
    },
    {
      "cell_type": "code",
      "source": [
        "# housing scatter plot\n",
        "alt.data_transformers.disable_max_rows()\n",
        "\n",
        "yloan = campaign[campaign[\"loan\"] == \"yes\"]\n",
        "\n",
        "alt.Chart(campaign).mark_circle().encode(\n",
        "    x=\"housing\",\n",
        "    y=\"yloan\",\n",
        "    color=\"loan\"\n",
        ").properties(\n",
        "    width=600,\n",
        "    height=300\n",
        ")"
      ],
      "metadata": {
        "id": "s-_06BT5Cw_Z"
      },
      "execution_count": null,
      "outputs": []
    },
    {
      "cell_type": "markdown",
      "source": [
        "## Age"
      ],
      "metadata": {
        "id": "WUUiPV3OC9Ps"
      }
    },
    {
      "cell_type": "code",
      "source": [
        "# age histogram\n",
        "alt.data_transformers.disable_max_rows()\n",
        "\n",
        "yloan = campaign[campaign[\"loan\"] == \"yes\"]\n",
        "\n",
        "alt.Chart(yloan).mark_bar(width=10).encode(\n",
        "    x=\"marital\",\n",
        "    y=\"age\",\n",
        ").properties(\n",
        "    width=600,\n",
        "    height=300\n",
        ")"
      ],
      "metadata": {
        "id": "moCHwJGoCytj"
      },
      "execution_count": null,
      "outputs": []
    },
    {
      "cell_type": "markdown",
      "source": [
        "# One hot encode data"
      ],
      "metadata": {
        "id": "tv0SfFZKCkQm"
      }
    },
    {
      "cell_type": "code",
      "source": [
        "tidier_data = campaign\n",
        "\n",
        "tidier_data[\"age_group\"] = tidier_data[]"
      ],
      "metadata": {
        "id": "gxa8PPk5ClFm"
      },
      "execution_count": null,
      "outputs": []
    }
  ],
  "metadata": {
    "colab": {
      "collapsed_sections": [],
      "name": "sams_data_exploration.ipynb",
      "provenance": [],
      "include_colab_link": true
    },
    "kernelspec": {
      "display_name": "Python 3",
      "name": "python3"
    }
  },
  "nbformat": 4,
  "nbformat_minor": 0
}