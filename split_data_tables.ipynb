{
 "cells": [
  {
   "cell_type": "code",
   "execution_count": 1,
   "metadata": {},
   "outputs": [],
   "source": [
    "import pandas as pd\n",
    "import altair as alt"
   ]
  },
  {
   "cell_type": "code",
   "execution_count": 2,
   "metadata": {},
   "outputs": [
    {
     "data": {
      "text/html": [
       "<div>\n",
       "<style scoped>\n",
       "    .dataframe tbody tr th:only-of-type {\n",
       "        vertical-align: middle;\n",
       "    }\n",
       "\n",
       "    .dataframe tbody tr th {\n",
       "        vertical-align: top;\n",
       "    }\n",
       "\n",
       "    .dataframe thead th {\n",
       "        text-align: right;\n",
       "    }\n",
       "</style>\n",
       "<table border=\"1\" class=\"dataframe\">\n",
       "  <thead>\n",
       "    <tr style=\"text-align: right;\">\n",
       "      <th></th>\n",
       "      <th>emp.var.rate.positive</th>\n",
       "      <th>emp.var.rate.negative</th>\n",
       "    </tr>\n",
       "  </thead>\n",
       "  <tbody>\n",
       "    <tr>\n",
       "      <th>precision</th>\n",
       "      <td>{'0.0': 1.0, '1.0': 0.9717921527000001, 'accur...</td>\n",
       "      <td>{'0.0': 0.9689288635000001, '1.0': 0.860457408...</td>\n",
       "    </tr>\n",
       "    <tr>\n",
       "      <th>recall</th>\n",
       "      <td>{'0.0': 0.9709289617, '1.0': 1.0, 'accuracy': ...</td>\n",
       "      <td>{'0.0': 0.8491580079000001, '1.0': 0.971556886...</td>\n",
       "    </tr>\n",
       "    <tr>\n",
       "      <th>f1-score</th>\n",
       "      <td>{'0.0': 0.9852500832000001, '1.0': 0.985694310...</td>\n",
       "      <td>{'0.0': 0.9050983387, '1.0': 0.912638425, 'acc...</td>\n",
       "    </tr>\n",
       "    <tr>\n",
       "      <th>support</th>\n",
       "      <td>{'0.0': 4575.0, '1.0': 4582.0, 'accuracy': 0.9...</td>\n",
       "      <td>{'0.0': 2791.0, '1.0': 2672.0, 'accuracy': 0.9...</td>\n",
       "    </tr>\n",
       "    <tr>\n",
       "      <th>feature</th>\n",
       "      <td>{'0.0': 'emp.var.rate_pos', '1.0': 'emp.var.ra...</td>\n",
       "      <td>{'0.0': 'emp.var.rate_neg', '1.0': 'emp.var.ra...</td>\n",
       "    </tr>\n",
       "  </tbody>\n",
       "</table>\n",
       "</div>"
      ],
      "text/plain": [
       "                                       emp.var.rate.positive  \\\n",
       "precision  {'0.0': 1.0, '1.0': 0.9717921527000001, 'accur...   \n",
       "recall     {'0.0': 0.9709289617, '1.0': 1.0, 'accuracy': ...   \n",
       "f1-score   {'0.0': 0.9852500832000001, '1.0': 0.985694310...   \n",
       "support    {'0.0': 4575.0, '1.0': 4582.0, 'accuracy': 0.9...   \n",
       "feature    {'0.0': 'emp.var.rate_pos', '1.0': 'emp.var.ra...   \n",
       "\n",
       "                                       emp.var.rate.negative  \n",
       "precision  {'0.0': 0.9689288635000001, '1.0': 0.860457408...  \n",
       "recall     {'0.0': 0.8491580079000001, '1.0': 0.971556886...  \n",
       "f1-score   {'0.0': 0.9050983387, '1.0': 0.912638425, 'acc...  \n",
       "support    {'0.0': 2791.0, '1.0': 2672.0, 'accuracy': 0.9...  \n",
       "feature    {'0.0': 'emp.var.rate_neg', '1.0': 'emp.var.ra...  "
      ]
     },
     "execution_count": 2,
     "metadata": {},
     "output_type": "execute_result"
    }
   ],
   "source": [
    "# data = pd.read_csv('split_data.csv')\n",
    "data = pd.read_json('split_data.json')\n",
    "data.head()"
   ]
  }
 ],
 "metadata": {
  "interpreter": {
   "hash": "61a8a38449cd87730cfc569f03425f5307feff6cab1037d5194af39db80abeb1"
  },
  "kernelspec": {
   "display_name": "Python 3.9.8 32-bit",
   "language": "python",
   "name": "python3"
  },
  "language_info": {
   "codemirror_mode": {
    "name": "ipython",
    "version": 3
   },
   "file_extension": ".py",
   "mimetype": "text/x-python",
   "name": "python",
   "nbconvert_exporter": "python",
   "pygments_lexer": "ipython3",
   "version": "3.9.8"
  },
  "orig_nbformat": 4
 },
 "nbformat": 4,
 "nbformat_minor": 2
}
